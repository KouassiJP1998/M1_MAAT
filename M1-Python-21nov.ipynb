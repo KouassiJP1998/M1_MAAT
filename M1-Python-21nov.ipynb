{
 "cells": [
  {
   "cell_type": "markdown",
   "metadata": {},
   "source": [
    "# 3LTA710T - Programmation et algorithmique 1\n",
    "\n",
    "Au programme :\n",
    "- questions sur le cours du 15/11\n",
    "- rappels sur les fonctions\n",
    "- les expressions régulières\n",
    "- si on a le temps, récupérer des données depuis le Web"
   ]
  },
  {
   "cell_type": "markdown",
   "metadata": {},
   "source": [
    "## Des questions ?"
   ]
  },
  {
   "cell_type": "code",
   "execution_count": null,
   "metadata": {},
   "outputs": [],
   "source": []
  },
  {
   "cell_type": "markdown",
   "metadata": {},
   "source": [
    "## Les fonctions\n",
    "\n",
    "Bien faire attention à ce que vous donnez en argument à vos fonctions ! Donnez **toutes les variables** en argument, càd tous les éléments dont **vous** choisissez la valeur.\n",
    "\n",
    "Exemple avec une fonction qui utilise le signe modulo % :\n",
    "\"L’opérateur % (modulo) produit le reste de la division entière du premier argument par le second.\" (cf. https://docs.python.org/fr/3.6/reference/expressions.html#binary-arithmetic-operations)"
   ]
  },
  {
   "cell_type": "code",
   "execution_count": 3,
   "metadata": {},
   "outputs": [
    {
     "name": "stdout",
     "output_type": "stream",
     "text": [
      "1.0\n",
      "6\n"
     ]
    }
   ],
   "source": [
    "def fonction_simple(nombre):\n",
    "    \"\"\"\n",
    "    Entrée : un nombre\n",
    "    Sortie : \n",
    "    - si le nombre est pair, la moitié du nombre\n",
    "    - si le nombre est impair, le double du nombre\n",
    "    \"\"\"\n",
    "    \n",
    "    if nombre%2 == 0:\n",
    "        return nombre/2\n",
    "        #resultat = nombre/2\n",
    "    else:\n",
    "        return nombre*2\n",
    "        #resultat = nombre*2\n",
    "        \n",
    "    #return resultat\n",
    "\n",
    "print(fonction_simple(2))\n",
    "print(fonction_simple(3))"
   ]
  },
  {
   "cell_type": "code",
   "execution_count": 4,
   "metadata": {},
   "outputs": [
    {
     "name": "stdout",
     "output_type": "stream",
     "text": [
      "6\n",
      "1.0\n",
      "3.0\n"
     ]
    }
   ],
   "source": [
    "def fonction_avec_default(nombre,multiplicateur=2):\n",
    "    \"\"\"\n",
    "    Entrée :\n",
    "    -  un nombre\n",
    "    - facultatif : un multiplicateur (valeur par défaut = 2)\n",
    "    Sortie :\n",
    "    - si le nombre est un multiple du multiplicateur, nombre/multiplicateur\n",
    "    - sinon, nombre*multiplicateur\n",
    "    \"\"\"\n",
    "    \n",
    "    if nombre%multiplicateur == 0:\n",
    "        #return nombre/multiplicateur\n",
    "        resultat = nombre/multiplicateur\n",
    "        \n",
    "    else:\n",
    "        #return nombre*multiplicateur\n",
    "        resultat = nombre*multiplicateur\n",
    "        \n",
    "    return resultat\n",
    "        \n",
    "print(fonction_avec_default(3))\n",
    "print(fonction_avec_default(3,3))\n",
    "print(fonction_avec_default(9,3))"
   ]
  },
  {
   "cell_type": "code",
   "execution_count": null,
   "metadata": {},
   "outputs": [],
   "source": []
  },
  {
   "cell_type": "markdown",
   "metadata": {},
   "source": [
    "## Les expressions régulières\n",
    "\n",
    "Voir la doc : https://docs.python.org/fr/3/library/re.html\n",
    "\n",
    "Quelques opérations utiles :\n",
    "- `re.compile()` : pour compiler et enregistrer un motif\n",
    "- `re.match()` : cherche une correspondance au début de la chaîne\n",
    "- `re.search()` : chercher la première correspondance\n",
    "- `re.finditer()` : itérateur qui chercher toutes les correspondances\n",
    "- `re.sub()` : pour remplacer\n",
    "- `re.split()` : pour découper\n",
    "- `match.group()` : pour appeler les séquences mémorisées"
   ]
  },
  {
   "cell_type": "code",
   "execution_count": 7,
   "metadata": {},
   "outputs": [],
   "source": [
    "import re"
   ]
  },
  {
   "cell_type": "markdown",
   "metadata": {},
   "source": [
    "##### Différence entre `re.search` et `re.match`"
   ]
  },
  {
   "cell_type": "code",
   "execution_count": 8,
   "metadata": {},
   "outputs": [
    {
     "name": "stdout",
     "output_type": "stream",
     "text": [
      "<_sre.SRE_Match object; span=(7, 10), match='123'> \n",
      " 123 7 10 (7, 10)\n",
      "None \n",
      "\n"
     ]
    }
   ],
   "source": [
    "texte = \"Pierre 123 %*$ ?.\"\n",
    "\n",
    "m = re.search(\"\\d+\",texte)\n",
    "print(m,\"\\n\",m.group(0),m.start(0),m.end(0),m.span(0))\n",
    "\n",
    "m2 = re.match(\"\\d+\",texte)\n",
    "print(m2,\"\\n\")"
   ]
  },
  {
   "cell_type": "code",
   "execution_count": 11,
   "metadata": {},
   "outputs": [
    {
     "name": "stdout",
     "output_type": "stream",
     "text": [
      "None \n",
      "\n"
     ]
    }
   ],
   "source": [
    "m2 = re.match(\"\\d+\",texte)\n",
    "print(m2,\"\\n\")\n",
    "#print(m2.group(0))\n",
    "#print(m2.start(0))\n",
    "#print(m2.end(0))\n",
    "#print(m2.span(0))"
   ]
  },
  {
   "cell_type": "markdown",
   "metadata": {},
   "source": [
    "Des idées pour faire le tri entre les cas où une correspondance est trouvée et ceux où il n'y a pas de correspondance ?"
   ]
  },
  {
   "cell_type": "code",
   "execution_count": 28,
   "metadata": {},
   "outputs": [
    {
     "name": "stdout",
     "output_type": "stream",
     "text": [
      "Aucune correspondance, désolée !\n"
     ]
    }
   ],
   "source": [
    "try : # on essaye d'afficher la chaîne de caractère correspondant au motif\n",
    "    print(m2.group(0))\n",
    "\n",
    "except AttributeError: # s'il n'y en a pas, on évite l'erreur\n",
    "    print(\"Aucune correspondance, désolée !\")"
   ]
  },
  {
   "cell_type": "code",
   "execution_count": 29,
   "metadata": {},
   "outputs": [
    {
     "name": "stdout",
     "output_type": "stream",
     "text": [
      "Rien, désolée !\n"
     ]
    }
   ],
   "source": [
    "if m2: # on teste l'existence d'une correspondance\n",
    "    print(m2.group(0))\n",
    "\n",
    "else: # s'il n'y a pas de correspondance\n",
    "    print(\"Rien, désolée !\")"
   ]
  },
  {
   "cell_type": "markdown",
   "metadata": {},
   "source": [
    "##### Utilisation de `re.finditer` ; différence avec `re.search` et `re.match`"
   ]
  },
  {
   "cell_type": "code",
   "execution_count": 12,
   "metadata": {},
   "outputs": [],
   "source": [
    "contacts_M1 = open(\"./etudiants_M1.csv\",\"r\",encoding=\"utf-8\").read() # ouverture et lecture du fichier\n",
    "\n",
    "regEx = re.compile(\"\\w+\\.?\\w+@\\w+\\.[a-z]+\") # constitution de la regEx"
   ]
  },
  {
   "cell_type": "code",
   "execution_count": 13,
   "metadata": {},
   "outputs": [],
   "source": [
    "m = re.match(regEx,contacts_M1)\n",
    "\n",
    "if m :\n",
    "    print(m.group(0))"
   ]
  },
  {
   "cell_type": "code",
   "execution_count": 14,
   "metadata": {},
   "outputs": [
    {
     "name": "stdout",
     "output_type": "stream",
     "text": [
      "maude.antoin@gmail.com\n"
     ]
    }
   ],
   "source": [
    "m = re.search(regEx,contacts_M1)\n",
    "\n",
    "if m :\n",
    "    print(m.group(0))"
   ]
  },
  {
   "cell_type": "code",
   "execution_count": 15,
   "metadata": {},
   "outputs": [
    {
     "name": "stdout",
     "output_type": "stream",
     "text": [
      "<_sre.SRE_Match object; span=(415, 437), match='maude.antoin@gmail.com'> \n",
      " maude.antoin@gmail.com\n",
      "<_sre.SRE_Match object; span=(487, 506), match='cuidanxin@gmail.com'> \n",
      " cuidanxin@gmail.com\n",
      "<_sre.SRE_Match object; span=(560, 587), match='huanglijing0404@hotmail.com'> \n",
      " huanglijing0404@hotmail.com\n",
      "<_sre.SRE_Match object; span=(732, 755), match='bryanmattking@gmail.com'> \n",
      " bryanmattking@gmail.com\n",
      "<_sre.SRE_Match object; span=(813, 833), match='xingyu.liu@gmail.com'> \n",
      " xingyu.liu@gmail.com\n",
      "<_sre.SRE_Match object; span=(887, 905), match='Bfsufyxljy@163.com'> \n",
      " Bfsufyxljy@163.com\n",
      "<_sre.SRE_Match object; span=(957, 980), match='nicolas.lea@outlook.com'> \n",
      " nicolas.lea@outlook.com\n",
      "<_sre.SRE_Match object; span=(1034, 1055), match='daria_oltean@yahoo.fr'> \n",
      " daria_oltean@yahoo.fr\n",
      "<_sre.SRE_Match object; span=(1115, 1133), match='soumahvg@gmail.com'> \n",
      " soumahvg@gmail.com\n",
      "<_sre.SRE_Match object; span=(1197, 1215), match='evanzeveren@sfr.fr'> \n",
      " evanzeveren@sfr.fr\n",
      "<_sre.SRE_Match object; span=(1259, 1277), match='wq2021@outlook.com'> \n",
      " wq2021@outlook.com\n",
      "<_sre.SRE_Match object; span=(1323, 1344), match='xietan_xt@foxmail.com'> \n",
      " xietan_xt@foxmail.com\n",
      "<_sre.SRE_Match object; span=(1400, 1420), match='yueyimei@outlook.com'> \n",
      " yueyimei@outlook.com\n",
      "<_sre.SRE_Match object; span=(1478, 1501), match='mariajingchen@gmail.com'> \n",
      " mariajingchen@gmail.com\n",
      "<_sre.SRE_Match object; span=(1557, 1588), match='zhangxiaoxia.michelle@gmail.com'> \n",
      " zhangxiaoxia.michelle@gmail.com\n",
      "<_sre.SRE_Match object; span=(1636, 1655), match='ya.amer@hotmail.com'> \n",
      " ya.amer@hotmail.com\n",
      "<_sre.SRE_Match object; span=(1723, 1744), match='azucena.ues@gmail.com'> \n",
      " azucena.ues@gmail.com\n",
      "<_sre.SRE_Match object; span=(1802, 1825), match='marinabaydina@gmail.com'> \n",
      " marinabaydina@gmail.com\n",
      "<_sre.SRE_Match object; span=(1887, 1914), match='celestine.camara2@gmail.com'> \n",
      " celestine.camara2@gmail.com\n",
      "<_sre.SRE_Match object; span=(1976, 1999), match='yoleneconstable@live.fr'> \n",
      " yoleneconstable@live.fr\n",
      "<_sre.SRE_Match object; span=(2063, 2090), match='laurianne.deprost@gmail.com'> \n",
      " laurianne.deprost@gmail.com\n",
      "<_sre.SRE_Match object; span=(2138, 2159), match='withagainst@gmail.com'> \n",
      " withagainst@gmail.com\n",
      "<_sre.SRE_Match object; span=(2219, 2245), match='aurore.lessieux@wanadoo.fr'> \n",
      " aurore.lessieux@wanadoo.fr\n",
      "<_sre.SRE_Match object; span=(2293, 2314), match='liwenfei1995@sina.com'> \n",
      " liwenfei1995@sina.com\n",
      "<_sre.SRE_Match object; span=(2370, 2386), match='lisama76@aol.com'> \n",
      " lisama76@aol.com\n",
      "<_sre.SRE_Match object; span=(2442, 2465), match='nakhle.mariam@gmail.com'> \n",
      " nakhle.mariam@gmail.com\n",
      "<_sre.SRE_Match object; span=(2535, 2556), match='martinsalud@gmail.com'> \n",
      " martinsalud@gmail.com\n",
      "<_sre.SRE_Match object; span=(2620, 2651), match='emmett.strickland@sciencespo.fr'> \n",
      " emmett.strickland@sciencespo.fr\n",
      "<_sre.SRE_Match object; span=(2723, 2744), match='markaritvar@gmail.com'> \n",
      " markaritvar@gmail.com\n",
      "<_sre.SRE_Match object; span=(2804, 2824), match='kaura.neden@yahoo.fr'> \n",
      " kaura.neden@yahoo.fr\n"
     ]
    }
   ],
   "source": [
    "for m in re.finditer(regEx,contacts_M1):\n",
    "    print(m,\"\\n\",m.group(0))"
   ]
  },
  {
   "cell_type": "markdown",
   "metadata": {},
   "source": [
    "##### Utilisation des groupes `m.group()`\n",
    "\n",
    "Si aucun parenthésage n'a été effectué au sein de la regEx, utiliser `m.group(0)` permettra d'avoir accès à la chaîne de caractères reconnues.\n",
    "\n",
    "Si un parenthésage a été effectué, il faut utiliser la position de l'élément entre parenthèses pour l'appeler (dans le cas où il a bien été reconnu)."
   ]
  },
  {
   "cell_type": "code",
   "execution_count": 16,
   "metadata": {},
   "outputs": [
    {
     "name": "stdout",
     "output_type": "stream",
     "text": [
      "M *** D\n",
      "Mme *** D\n",
      "Mlle *** P\n"
     ]
    }
   ],
   "source": [
    "texte = \"M. Dupont et Mme. Durand ne sont pas venus hier. Mlle. Perrin était là, en revanche. Signé M.\"\n",
    "\n",
    "regEx_civilite = re.compile(\"(Mm?l?l?e?)\\. ([A-Z])\")\n",
    "\n",
    "for m in re.finditer(regEx_civilite,texte):\n",
    "    print(m.group(1),\"***\",m.group(2))"
   ]
  },
  {
   "cell_type": "code",
   "execution_count": 17,
   "metadata": {},
   "outputs": [
    {
     "name": "stdout",
     "output_type": "stream",
     "text": [
      "14 avril 1995\n",
      "10 mai 1992\n"
     ]
    }
   ],
   "source": [
    "texte = \"Le 14 avril 1995 et le 10 mai 1992. Le 25 septembre 19991.\"\n",
    "\n",
    "regEx = re.compile(\"(\\d+) (avril|mai) (\\d+)\")\n",
    "\n",
    "for m in re.finditer(regEx, texte):\n",
    "    print(m.group(1),m.group(2),m.group(3))\n",
    "    #print(m.group(0))"
   ]
  },
  {
   "cell_type": "code",
   "execution_count": null,
   "metadata": {},
   "outputs": [],
   "source": []
  },
  {
   "cell_type": "markdown",
   "metadata": {},
   "source": [
    "##### Utilisation de `re.sub`\n",
    "\n",
    "- Remplacer une chaîne de caractère (exprimée par une regEx) par une autre chaîne de caractère"
   ]
  },
  {
   "cell_type": "code",
   "execution_count": 18,
   "metadata": {},
   "outputs": [
    {
     "name": "stdout",
     "output_type": "stream",
     "text": [
      "L*** petite fleur ***ime le soleil.\n",
      "LV pVtVtV flVVr VVmV lV sVlVVl.\n",
      "La petite flVr Vme le solVl.\n"
     ]
    }
   ],
   "source": [
    "texte = \"La petite fleur aime le soleil.\"\n",
    "\n",
    "nouveau_texte = re.sub(\"a\",\"***\",texte)\n",
    "print(nouveau_texte)\n",
    "\n",
    "nouveau_texte2 = re.sub(\"[aeiuo]\",\"V\",texte)\n",
    "print(nouveau_texte2)\n",
    "\n",
    "nouveau_texte3 = re.sub(\"[aeiuo]{2,}\",\"V\",texte)\n",
    "print(nouveau_texte3)"
   ]
  },
  {
   "cell_type": "markdown",
   "metadata": {},
   "source": [
    "- Remplacer à l'aide d'une fonction"
   ]
  },
  {
   "cell_type": "code",
   "execution_count": 19,
   "metadata": {},
   "outputs": [],
   "source": [
    "def remplace_civilite(m):\n",
    "    \"\"\"\n",
    "    Permet de remplacer les abréviations de civilités par leur nom complet.\n",
    "    \"\"\"\n",
    "    \n",
    "    civilite = str()\n",
    "    \n",
    "    if m.group(1) == \"M\":\n",
    "        civilite = \"Monsieur\"\n",
    "    elif m.group(1) == \"Mme\":\n",
    "        civilite = \"Madame\"\n",
    "    elif m.group(1) == \"Mlle\":\n",
    "        civilite = \"Mademoiselle\"\n",
    "        \n",
    "    return civilite+\" \"+m.group(2)"
   ]
  },
  {
   "cell_type": "code",
   "execution_count": 20,
   "metadata": {},
   "outputs": [
    {
     "name": "stdout",
     "output_type": "stream",
     "text": [
      "M D\n",
      "Mme D\n",
      "Mlle P\n",
      "Monsieur Dupont et Madame Durand ne sont pas venus hier. Mademoiselle Perrin était là, en revanche. Signé M.\n"
     ]
    }
   ],
   "source": [
    "texte = \"M. Dupont et Mme. Durand ne sont pas venus hier. Mlle. Perrin était là, en revanche. Signé M.\"\n",
    "\n",
    "regEx_civilite = re.compile(\"(Mm?l?l?e?)\\. ([A-Z])\")\n",
    "\n",
    "for m in re.finditer(regEx_civilite,texte):\n",
    "    print(m.group(1),m.group(2))\n",
    "    \n",
    "nouv_texte = re.sub(regEx_civilite,remplace_civilite,texte)\n",
    "print(nouv_texte)"
   ]
  },
  {
   "cell_type": "markdown",
   "metadata": {},
   "source": [
    "##### Utilisation de `re.split`\n",
    "\n",
    "Très pratique pour découper un texte en mots !!"
   ]
  },
  {
   "cell_type": "code",
   "execution_count": 21,
   "metadata": {},
   "outputs": [
    {
     "name": "stdout",
     "output_type": "stream",
     "text": [
      "['Hier', 'il', 'a', 'fait', 'vraiment', 'beau', 'Est', 'ce', 'que', 'tu', 'penses', 'que', 'ce', 'sera', 'pareil', 'aujourd', 'hui', '']\n",
      "['Hier', 'il', 'a', 'fait', 'vraiment', 'beau', 'Est', 'ce', 'que', 'tu', 'penses', 'que', 'ce', 'sera', 'pareil', 'aujourd', 'hui', '']\n"
     ]
    }
   ],
   "source": [
    "texte = \"Hier, il a fait vraiment beau ! Est-ce que tu penses que ce sera pareil aujourd'hui ?\"\n",
    "\n",
    "regEx_pasMot = re.compile(\"\\W+\")\n",
    "\n",
    "mots = re.split(regEx_pasMot,texte)\n",
    "print(mots)\n",
    "\n",
    "mots2 = regEx_pasMot.split(texte)\n",
    "print(mots2)"
   ]
  },
  {
   "cell_type": "markdown",
   "metadata": {},
   "source": [
    "## Module `collections` : `defaultdict` et `Counter`\n",
    "\n",
    "\n",
    "- `defaultdict` : permet de donner une valeur par défaut à une clé. Très pratique quand on remplit automatiquement un dictionnaire qui a des listes pour valeurs !\n",
    "\n",
    "- `Counter` : compte automatiquement le nombre d'éléments dans une séquence. Très pratique pour avoir la fréquence des mots d'un texte !"
   ]
  },
  {
   "cell_type": "code",
   "execution_count": 22,
   "metadata": {},
   "outputs": [],
   "source": [
    "from collections import defaultdict, Counter"
   ]
  },
  {
   "cell_type": "code",
   "execution_count": 23,
   "metadata": {},
   "outputs": [
    {
     "name": "stdout",
     "output_type": "stream",
     "text": [
      "[0, 2, 4, 6, 8, 10, 12, 14, 16, 18, 20, 22, 24, 26, 28, 30, 32, 34, 36, 38, 40, 42, 44, 46, 48, 50, 52, 54, 56, 58, 60, 62, 64, 66, 68, 70, 72, 74, 76, 78, 80, 82, 84, 86, 88, 90, 92, 94, 96, 98]\n"
     ]
    }
   ],
   "source": [
    "dico = {\n",
    "    \"pair\":list(),\n",
    "    \"impair\":list(),\n",
    "}\n",
    "\n",
    "for nombre in range(0,100):\n",
    "    if nombre%2 == 0:\n",
    "        dico[\"pair\"].append(nombre)\n",
    "    else:\n",
    "        dico[\"impair\"].append(nombre)\n",
    "\n",
    "print(dico[\"pair\"])"
   ]
  },
  {
   "cell_type": "code",
   "execution_count": 24,
   "metadata": {},
   "outputs": [
    {
     "name": "stdout",
     "output_type": "stream",
     "text": [
      "[0, 2, 4, 6, 8, 10, 12, 14, 16, 18, 20, 22, 24, 26, 28, 30, 32, 34, 36, 38, 40, 42, 44, 46, 48, 50, 52, 54, 56, 58, 60, 62, 64, 66, 68, 70, 72, 74, 76, 78, 80, 82, 84, 86, 88, 90, 92, 94, 96, 98]\n"
     ]
    }
   ],
   "source": [
    "dico2 = defaultdict(lambda :list())\n",
    "\n",
    "for nombre in range(0,100):\n",
    "    if nombre%2 == 0:\n",
    "        dico2[\"pair\"].append(nombre)\n",
    "    else :\n",
    "        dico2[\"impair\"].append(nombre)\n",
    "        \n",
    "print(dico2[\"pair\"])"
   ]
  },
  {
   "cell_type": "code",
   "execution_count": 25,
   "metadata": {},
   "outputs": [
    {
     "name": "stdout",
     "output_type": "stream",
     "text": [
      "Counter({' ': 14, 'l': 8, 'u': 6, 'a': 3, 'i': 3, 'p': 3, 'o': 3, 'm': 3, 'L': 1})\n",
      "3\n"
     ]
    }
   ],
   "source": [
    "# Compter les caractères\n",
    "\n",
    "texte = \"La la la li li li lu lu lu po po po mu mu mu\"\n",
    "compteur_caracteres_freq = Counter(texte)\n",
    "print(compteur_caracteres_freq)\n",
    "print(compteur_caracteres_freq[\"a\"])"
   ]
  },
  {
   "cell_type": "code",
   "execution_count": 26,
   "metadata": {},
   "outputs": [
    {
     "name": "stdout",
     "output_type": "stream",
     "text": [
      "  14\n",
      "l 8\n",
      "u 6\n",
      "a 3\n",
      "i 3\n",
      "p 3\n",
      "o 3\n",
      "m 3\n",
      "L 1\n"
     ]
    }
   ],
   "source": [
    "for caractere in sorted(compteur_caracteres_freq, key=lambda x:compteur_caracteres_freq[x], reverse=True):\n",
    "    print(caractere, compteur_caracteres_freq[caractere])"
   ]
  },
  {
   "cell_type": "code",
   "execution_count": 27,
   "metadata": {},
   "outputs": [
    {
     "name": "stdout",
     "output_type": "stream",
     "text": [
      "Counter({'li': 3, 'lu': 3, 'po': 3, 'mu': 3, 'la': 2, 'La': 1})\n",
      "2\n",
      "Counter({'la': 3, 'li': 3, 'lu': 3, 'po': 3, 'mu': 3})\n"
     ]
    }
   ],
   "source": [
    "# Compter les mots\n",
    "\n",
    "texte = \"La la la li li li lu lu lu po po po mu mu mu\"\n",
    "mots = texte.split(\" \")\n",
    "compteur_mot_freq = Counter(mots)\n",
    "\n",
    "compteur2 = Counter([m.lower() for m in mots])\n",
    "\n",
    "print(compteur_mot_freq)\n",
    "print(compteur_mot_freq[\"la\"])\n",
    "print(compteur2)"
   ]
  },
  {
   "cell_type": "code",
   "execution_count": null,
   "metadata": {},
   "outputs": [],
   "source": []
  },
  {
   "cell_type": "markdown",
   "metadata": {},
   "source": [
    "# Exercices avec ce qui a été vu en cours :\n",
    "\n",
    "1. **Trouver le vocabulaire d'un texte**\n",
    "    - ouvrir le fichier \"chap1et2.txt\" et récupérer son contenu ;\n",
    "    - découper le texte en mots (utiliser une regEx !) ;\n",
    "    - compter le nombre d'occurrences de chaque mots du texte (par ex. utiliser `Counter` ; éventuellement, transformer en minuscule toutes les lettres de chaque mot, pour éviter les doublons du type 'La'/'la', même si cette méthode risque de générer des ambiguïtés (le prénom \"Pierre\" vs une \"pierre\") ;\n",
    "    - afficher les mots du texte par ordre de fréquence décroissante (i.e. les mots les plus fréquents en premier).\n",
    "    \n",
    "\n",
    "\n",
    "2. **Appliquer un lexique sur un texte et faire une sortie balisée**\n",
    "    - ouvrir le fichier \"lexique_formes_cat.tsv\" et récupérer son contenu. Conseil : lire le fichier ligne par ligne et stocker le contenu, au fur et à mesure, dans un dictionnaire. Pour rechercher des mots du texte dans le lexique, il sera plus simple d'avoir un dictionnaire de la forme `{\"forme\":\"catégorie\"}` ;\n",
    "    - ouvrir le fichier \"chap1et2.txt\" et récupérer son contenu ;\n",
    "    - découper le texte en mots ;\n",
    "    - pour chaque mot du texte, vérifier s'il est dans le lexique. Si c'est le cas, entourer le mot par des balises. Par exemple, si le mot \"rage\" est dans le texte et qu'il est dans le lexique, catégorie \"colère\", le mot rage devra être remplacé par `<colere>rage</colere>` ;\n",
    "    - écrire le nouveau texte (avec les mots du lexique balisé) dans un fichier de sortie.\n",
    "    \n",
    "*N.B.: si vous découpez le texte en mots sur tous les non-caractères de mot, la ponctuation et les espaces disparaîtront ! Pour éviter ce problème, vous pouvez faire comme ci-dessous.*\n"
   ]
  },
  {
   "cell_type": "code",
   "execution_count": 32,
   "metadata": {},
   "outputs": [],
   "source": [
    "def ajoute_pour_decoupage(m):\n",
    "    \"\"\"\n",
    "    Permet d'ajouter une marque spéciale pour découper le texte tout en conservant les infos de ponctuation\n",
    "    \"\"\"\n",
    "    \n",
    "    return \"$$$\"+m.group(1)+\"$$$\""
   ]
  },
  {
   "cell_type": "code",
   "execution_count": 39,
   "metadata": {},
   "outputs": [
    {
     "name": "stdout",
     "output_type": "stream",
     "text": [
      "['PARTIE', ' ', '1', ' : ', 'Fils', ' ', 'de', ' ', 'voleur', '\\n\\n', 'D', '’', 'habitude', ', ', 'les', ' ', 'gens', ' ', 'qui', ' ', 'écrivent', ' ', 'leurs', ' ', 'mémoires', ' ', 'ont', ' ', 'un', ' ', 'pied', ' ', 'dans', ' ', 'la', ' ', 'tombe', '. ', 'Moi', ', ', 'je', ' ', 'n', '’', 'ai', ' ', 'que', ' ', 'seize', ' ', 'ans', ', ', 'mais', ' ', 'j', '’', 'ai', ' ', 'décidé', ' ', 'de', ' ', 'vous', ' ', 'raconter', ' ', 'l', '’', 'histoire', ' ', 'de', ' ', 'ma', ' ', 'vie', '. ', 'Pour', ' ', 'deux', ' ', 'raisons', '. ', 'Une', ', ', 'je', ' ', 'ne', ' ', 'suis', ' ', 'pas', ' ', 'sûr', ' ', 'de', ' ', 'faire', ' ', 'de', ' ', 'vieux', ' ', 'os', '. ', 'Deux', ', ', 'j', '’', 'ai', ' ', 'vu', ' ', 'plus', ' ', 'de', ' ', 'choses', ' ', 'qu', '’', 'un', ' ', 'centenaire', '. ', 'Mais', ' ', 'commençons', ' ', 'par', ' ', 'le', ' ', 'commencement', ', ', 'comme', ' ', 'disait', ' ', 'le', ' ', 'bourreau', ' ', 'à', ' ', 'Marie', '-', 'Antoinette', ' ', 'en', ' ', 'lui', ' ', 'coupant', ' ', 'les', ' ', 'cheveux', '.\\n\\n', '1', '. ', 'Les', ' ', 'demoiselles', ' ', 'de', ' ', 'Lange', ' ', 'veulent', ' ', 'une', ' ', 'petite', ' ', 'fille', '. - ', 'Je', ' ', 'suis', ' ', 'adopté', '. - ', 'On', ' ', 'm', '’', 'apprend', ' ', 'à', ' ', 'faire', ' ', 'la', ' ', 'différence', ' ', 'entre', ' ', 'le', ' ', 'bien', ' ', 'et', ' ', 'le', ' ', 'mal', '.\\n\\n', 'À', ' ', 'la', ' ', 'mort', ' ', 'de', ' ', 'leur', ' ', 'papa', ', ', 'les', ' ', 'demoiselles', ' ', 'de', ' ', 'Lange', ', ', 'que', ' ', 'je', ' ', 'n', '’', 'appelle', ' ', 'pas', ' ', 'encore', ' ', 'tante', ' ', 'Mélanie', ' ', 'et', ' ', 'tante', ' ', 'Amélie', ' ', 'parce', ' ', 'qu', '’', 'elles', ' ', 'ne', ' ', 'm', '’', 'ont', ' ', 'pas', ' ', 'adopté', ' ', 'à', ' ', 'ce', ' ', 'moment', ' ', 'de', ' ', 'mon', ' ', 'récit', ', ', 's', '’', 'aperçurent', ' ', 'de', ' ', 'deux', ' ', 'choses', '. ', 'Une', ', ', 'qu', '’', 'elles', ' ', 'étaient', ' ', 'trop', ' ', 'vieilles', ' ', 'pour', ' ', 'faire', ' ', 'le', ' ', 'bonheur', ' ', 'd', '’', 'un', ' ', 'homme', '. ', 'Deux', ', ', 'qu', '’', 'elles', ' ', 'étaient', ' ', 'assez', ' ', 'jeunes', ' ', 'pour', ' ', 'faire', ' ', 'le', ' ', 'bonheur', ' ', 'd', '’', 'un', ' ', 'enfant', '. ', 'Accompagnées', ' ', 'de', ' ', 'Mariette', ', ', 'leur', ' ', 'servante', ', ', 'elles', ' ', 'se', ' ', 'rendirent', ' ', 'chez', ' ', 'l', '’', 'abbé', ' ', 'Pigrièche', ' ', 'qui', ' ', 'dirigeait', ' ', 'un', ' ', 'hospice', ' ', 'pour', ' ', 'les', ' ', 'orphelins', ' ', 'mâles', ' ', 'et', ' ', 'femelles', ', ', 'rue', ' ', 'des', ' ', 'Ursulines', ' ', 'à', ' ', 'Tours', '.\\n', 'Mesdemoiselles', ' ', 'de', ' ', 'Lange', ' ', 'expliquèrent', ' ', 'dans', ' ', 'le', ' ', 'détail', ' ', 'à', ' ', 'l', '’', 'abbé', ' ', 'Pigrièche', ' ', 'ce', ' ', 'qu', '’', 'elles', ' ', 'voulaient', ' ', 'comme', ' ', 'genre', ' ', 'd', '’', 'orphelin', ' : ', 'pas', ' ', 'un', ' ', 'nourrisson', ' ', 'qui', ' ', 'risquait', ' ', 'de', ' ', 'claquer', ' ', 'trop', ' ', 'vite', ' (', 'je', ' ', 'crois', ' ', 'qu', '’', 'elles', ' ', 'dirent', ' ', 'la', ' ', 'chose', ' ', 'autrement', ') ', 'et', ' ', 'de', ' ', 'leur', ' ', 'faire', ' ', 'beaucoup', ' ', 'de', ' ', 'chagrin', ', ', 'mais', ' ', 'plutôt', ' ', 'un', ' ', 'enfant', ' ', 'de', ' ', 'deux', ' ', 'ou', ' ', 'trois', ' ', 'ans', ', ', 'en', ' ', 'bonne', ' ', 'santé', ', ', 'propre', ', ', 'sage', ', ', 'intelligent', ', ', 'sans', ' ', 'croûtes', ' ', 'sur', ' ', 'la', ' ', 'figure', ', ', 'blond', ' ', 'avec', ' ', 'des', ' ', 'yeux', ' ', 'bleus', ', ', 'et', ' ', 'bien', ' ', 'sûr', ' :\\n- ', 'Une', ' ', 'fille', ' !\\n- ', 'J', '’', 'ai', ' ', 'un', ' ', 'enfant', ' ', 'de', ' ', 'deux', ' ', 'ans', ', ', 'répondit', ' ', 'l', '’', 'abbé', ', ', 'blond', ' ', 'avec', ' ', 'des', ' ', 'yeux', ' ', 'bleus', '…\\n- ', 'Pas', ' ', 'de', ' ', 'croûtes', ' ? ', 's', '’', 'inquiéta', ' ', 'Amélie', ', ', 'qui', ' ', 'était', ' ', 'la', ' ', 'cadette', '.\\n', 'L', '’', 'abbé', ' ', 'fit', ' ', 'signe', ' ', 'que', ' ', 'l', '’', 'enfant', ' ', 'n', '’', 'était', ' ', 'pas', ' ', 'atteint', ' ', 'de', ' ', 'cette', ' ', 'infirmité', ', ', 'mais', ' ', 'd', '’', 'une', ' ', 'autre', ', ', 'plus', ' ', 'gênante', ' :\\n- ', 'C', '’', 'est', ' ', 'un', ' ', 'garçon', '.\\n', 'Les', ' ', 'demoiselles', ' ', 'eurent', ' ', 'l', '’', 'air', ' ', 'tellement', ' ', 'consterné', ' ', 'que', ' ', 'sur', ' ', 'le', ' ', 'moment', ' ', 'l', '’', 'abbé', ' ', 'n', '’', 'insista', ' ', 'pas', '. ', 'Il', ' ', 'leur', ' ', 'fit', ' ', 'faire', ' ', 'la', ' ', 'tournée', ' ', 'de', ' ', 'la', ' ', 'pouponnière', ' ', 'côté', ' ', 'filles', '. ', 'Il', ' ', 'y', ' ', 'avait', ' ', 'ce', ' ', 'jour', '-', 'là', ' ', 'une', ' ', 'nouvellenée', ' ', 'qui', ' ', 'n', '’', 'allait', ' ', 'pas', ' ', 'faire', ' ', 'la', ' ', 'journée', ', ', 'une', ' ', 'grosse', ' ', 'braillarde', ' ', 'aux', ' ', 'joues', ' ', 'rouges', ' ', 'et', ' ', 'une', ' ', 'idiote', ' ', 'à', ' ', 'quatre', ' ', 'pattes', '. ', 'Profitant', ' ', 'de', ' ', 'la', ' ', 'déception', ' ', 'des', ' ', 'demoiselles', ', ', 'l', '’', 'abbé', ' ', 'Pigrièche', ' ', 'leur', ' ', 'proposa', ' ', 'd', '’', 'aller', ' ', 'jeter', ' ', 'un', ' ', 'coup', ' ', 'd', '’', 'œil', ' ', 'sur', ' ', 'le', ' ', 'petit', ' ', 'garçon', ' ', 'd', '’', 'à', ' ', 'côté', '.\\n- ', 'Oh', ', ', 'c', '’', 'est', ' ', 'bien', ' ', 'inutile', ', ', 'protesta', ' ', 'Mélanie', ', ', 'qui', ' ', 'était', ' ', 'l', '’', 'aînée', '.\\n- ', 'Mais', ' ', 'puisque', ' ', 'nous', ' ', 'y', ' ', 'sommes', ', ', 'dit', '-', 'il', ' ', 'fermement', '.\\n', 'Il', ' ', 'montrait', ' ', 'la', ' ', 'porte', ' ', 'qu', '’', 'il', ' ', 'suffisait', ' ', 'de', ' ', 'pousser', ', ', 'et', ' ', 'les', ' ', 'demoiselles', ' ', 'de', ' ', 'Lange', ', ', 'qui', ' ', 'avaient', ' ', 'reçu', ' ', 'une', ' ', 'bonne', ' ', 'éducation', ', ', 'n', '’', 'osèrent', ' ', 'pas', ' ', 'lui', ' ', 'dire', ' ', 'non', '.\\n', 'De', ' ', 'l', '’', 'autre', ' ', 'côté', ' ', 'de', ' ', 'la', ' ', 'porte', ', ', 'je', ' ', 'dormais', ' ', 'bien', ' ', 'tranquille', ' ', 'dans', ' ', 'mon', ' ', 'berceau', ' ', 'avec', ' ', 'un', ' ', 'collègue', ' ', 'à', ' ', 'ma', ' ', 'droite', ' ', 'et', ' ', 'un', ' ', 'collègue', ' ', 'à', ' ', 'ma', ' ', 'gauche', ' ', 'parce', ' ', 'qu', '’', 'il', ' ', 'y', ' ', 'avait', ' ', 'crise', ' ', 'du', ' ', 'logement', ' ', 'chez', ' ', 'les', ' ', 'bébés', ' ', 'garçons', '.\\n- ', 'C', '’', 'est', ' ', 'celui', ' ', 'du', ' ', 'milieu', ', ', 'fit', ' ', 'l', '’', 'abbé', ' ', 'Pigrièche', ', ', 'assez', ' ', 'sûr', ' ', 'de', ' ', 'l', '’', 'effet', ' ', 'que', ' ', 'je', ' ', 'produirais', '.\\n', 'J', '’', 'étais', ' ', 'blond', ' ', 'comme', ' ', 'il', ' ', 'l', '’', 'avait', ' ', 'dit', ', ', 'avec', ' ', 'une', ' ', 'peau', ' ', 'de', ' ', 'pêche', ', ', 'des', ' ', 'cils', ' ', 'de', ' ', 'soie', ', ', 'des', ' ', 'oreilles', ' ', 'de', ' ', 'satin', ', ', 'et', ' ', 'beau', ' ', 'comme', ' ', 'les', ' ', 'Amours', ' ', 'tout', ' ', 'nus', ' ', 'que', ' ', 'dessinent', ' ', 'les', ' ', 'peintres', ' ', 'en', ' ', 'haut', ' ', 'des', ' ', 'tableaux', ', ', 'sauf', ' ', 'que', ' ', 'j', '’', 'étais', ' ', 'habillé', '. ', 'L', '’', 'inconvénient', ' ', 'quand', ' ', 'on', ' ', 'écrit', ' ', 'ses', ' ', 'mémoires', ', ', 'c', '’', 'est', ' ', 'qu', '’', 'on', ' ', 'est', ' ', 'obligé', ' ', 'de', ' ', 'dire', ' ', 'du', ' ', 'bien', ' ', 'de', ' ', 'soi', '. ', 'Mais', ' ', 'la', ' ', 'preuve', ' ', 'que', ' ', 'c', '’', 'était', ' ', 'la', ' ', 'vérité', ', ', 'c', '’', 'est', ' ', 'que', ' ', 'mademoiselle', ' ', 'Amélie', ' ', 's', '’', 'exclama', ' :\\n- ', 'Quel', ' ', 'petit', ' ', 'ange', ' !\\n- ', 'On', ' ', 'le', ' ', 'prend', ' ', 'toujours', ' ', 'pour', ' ', 'une', ' ', 'fille', ', ', 'glissa', ' ', 'l', '’', 'abbé', '.\\n- ', 'Cet', ' ', 'enfant', ' ', 'a', '-', 't', '-', 'il', ' ', 'un', ' ', 'nom', ' ? ', 's', '’', 'informa', ' ', 'mademoiselle', ' ', 'Mélanie', '.\\n- ', 'C', '’', 'est', ' ', 'souvent', ' ', 'le', ' ', 'cas', ' ', 'pour', ' ', 'les', ' ', 'enfants', '… ', 'Il', ' ', 's', '’', 'appelle', ' ', 'Malo', '.\\n', 'Mademoiselle', ' ', 'Mélanie', ' ', 'eut', ' ', 'un', ' ', 'haut', '-', 'le', '-', 'cœur', ' :\\n- ', 'C', '’', 'est', ' ', 'un', ' ', 'nom', ' ', 'chrétien', ' ?\\n- ', 'On', ' ', 'en', ' ', 'a', ' ', 'même', ' ', 'fait', ' ', 'une', ' ', 'ville', ', ', 'répondit', ' ', 'l', '’', 'abbé', '.\\n', 'Il', ' ', 'y', ' ', 'eut', ' ', 'un', ' ', 'silence', ' ', 'puis', ' ', 'mademoiselle', ' ', 'Amélie', ' (', 'la', ' ', 'cadette', ', ', 'mais', ' ', 'c', '’', 'est', ' ', 'la', ' ', 'dernière', ' ', 'fois', ' ', 'que', ' ', 'je', ' ', 'le', ' ', 'précise', ') ', 'se', ' ', 'pencha', ' ', 'sur', ' ', 'mon', ' ', 'berceau', ' ', 'et', ' ', 'prononça', ' ', 'distinctement', ' :\\n- ', 'Malo', '… ', 'Malo', ' ', 'de', ' ', 'Lange', '.\\n', 'Et', ' ', 'ces', ' ', 'mots', ' ', 'me', ' ', 'firent', ' ', 'ouvrir', ' ', 'les', ' ', 'yeux', '.\\n- ', 'Bleus', ', ', 'Mélanie', ' ! ', 'Regardez', ' ', 'comme', ' ', 'ils', ' ', 'sont', ' ', 'bleus', ' !\\n', 'Je', ' ', 'sais', ' ', 'bien', ' ', 'que', ' ', 'je', ' ', 'ne', ' ', 'peux', ' ', 'pas', ' ', 'me', ' ', 'souvenir', ' ', 'de', ' ', 'cette', ' ', 'scène', ' ', 'puisque', ' ', 'je', ' ', 'n', '’', 'avais', ' ', 'pas', ' ', 'deux', ' ', 'ans', '. ', 'Mais', ' ', 'elle', ' ', 'm', '’', 'a', ' ', 'été', ' ', 'racontée', ' ', 'par', ' ', 'la', ' ', 'suite', '. ', 'Quand', ' ', 'mademoiselle', ' ', 'Amélie', ' ', 'fit', ' ', 'un', ' ', 'geste', ' ', 'vers', ' ', 'moi', ' ', 'pour', ' ', 'm', '’', 'enlever', ' ', 'du', ' ', 'berceau', ', ', 'Mariette', ', ', 'la', ' ', 'servante', ', ', 's', '’', 'interposa', ' ', 'en', ' ', 'disant', ' ', 'qu', '’', 'on', ' ', 'ne', ' ', 'savait', ' ', 'rien', ' ', 'de', ' ', 'moi', ', ', 'que', ' ', 'je', ' ', 'n', '’', 'étais', ' ', 'peut', '-', 'être', ' ', 'même', ' ', 'pas', ' ', 'complètement', ' ', 'orphelin', ', ', 'et', ' ', 'que', ' ', 'j', '’', 'avais', ' ', 'sûrement', ' ', 'des', ' ', 'maladies', ' ', 'cachées', '.\\n- ', 'Je', ' ', 'vais', ' ', 'vous', ' ', 'dire', ' ', 'tout', ' ', 'ce', ' ', 'que', ' ', 'je', ' ', 'sais', ', ', 'promit', ' ', 'l', '’', 'abbé', '.\\n', 'Une', ' ', 'dame', ', ', 'le', ' ', 'visage', ' ', 'caché', ' ', 'sous', ' ', 'une', ' ', 'voilette', ', ', 'm', '’', 'avait', ' ', 'confié', ' ', 'en', ' ', 'nourrice', ' ', 'à', ' ', 'une', ' ', 'paysanne', ' ', 'des', ' ', 'environs', '. ', 'Mais', ' ', 'un', ' ', 'an', ' ', 'plus', ' ', 'tard', ', ', 'la', ' ', 'paysanne', ' ', 'mourut', ', ', 'et', ' ', 'son', ' ', 'mari', ', ', 'qui', ' ', 'ne', ' ', 'recevait', ' ', 'plus', ' ', 'd', '’', 'argent', ' ', 'pour', ' ', 'mon', ' ', 'entretien', ', ', 'm', '’', 'apporta', ' ', 'à', ' ', 'l', '’', 'hospice', ' ', 'des', ' ', 'Ursulines', '. ', 'Il', ' ', 'ne', ' ', 'savait', ' ', 'pas', ' ', 'le', ' ', 'nom', ' ', 'de', ' ', 'ma', ' ', 'mère', ' ', 'et', ' ', 'pensait', ' ', 'que', ' ', 'j', '’', 'étais', ' « ', 'un', ' ', 'enfant', ' ', 'de', ' ', 'l', '’', 'amour', ' ». ', 'C', '’', 'est', ' ', 'une', ' ', 'façon', ' ', 'de', ' ', 'dire', ' ', 'que', ' ', 'personne', ' ', 'ne', ' ', 'veut', ' ', 'de', ' ', 'vous', '.\\n- ', 'Qui', ' ', 'lui', ' ', 'a', ' ', 'donné', ' ', 'ce', ' ', 'nom', ' ', 'de', ' ', 'Malo', ' ? ', 'questionna', ' ', 'mademoiselle', ' ', 'Mélanie', '.\\n- ', 'La', ' ', 'dame', ' ', 'à', ' ', 'la', ' ', 'voilette', '.\\n- ', 'Et', ' ', 'il', ' ', 'n', '’', 'avait', ' ', 'pas', ' ', 'sur', ' ', 'lui', ' ', 'quelque', ' ', 'chose', ' ', 'qui', ' ', 'permette', ' ', 'de', ' ', 'l', '’', 'identifier', ', ', 'comme', ' ', 'une', ' ', 'croix', ' ', 'en', ' ', 'or', ' ', 'ou', ' ', 'des', ' ', 'langes', ' ', 'en', ' ', 'dentelle', ' ?\\n- ', 'Pas', ' ', 'd', '’', 'or', ', ', 'pas', ' ', 'de', ' ', 'dentelle', '.\\n- ', 'Et', ' ', 'le', ' ', 'mari', ' ', 'de', ' ', 'la', ' ', 'paysanne', ', ', 'on', ' ', 'pourrait', ' ', 'l', '’', 'interroger', ' ?\\n- ', 'On', ' ', 'pourrait', ', ', 'oui', ', ', 'mais', ' ', 'il', ' ', 'est', ' ', 'mort', '.\\n', 'L', '’', 'abbé', ' ', 'oubliait', ' ', 'de', ' ', 'révéler', ' ', 'à', ' ', 'mon', ' ', 'sujet', ' ', 'une', ' ', 'chose', ' ', 'très', ' ', 'importante', '. ', 'Je', ' ', 'pourrais', ' ', 'avouer', ' ', 'tout', ' ', 'de', ' ', 'suite', ' ', 'ce', ' ', 'que', ' ', 'c', '’', 'était', ', ', 'mais', ' ', 'je', ' ', 'garde', ' ', 'toujours', ' ', 'le', ' ', 'meilleur', ' ', 'pour', ' ', 'la', ' ', 'fin', ', ', 'comme', ' ', 'disait', ' ', 'le', ' ', 'cannibale', ' ', 'en', ' ', 'se', ' ', 'mettant', ' ', 'la', ' ', 'cervelle', ' ', 'de', ' ', 'côté', '.\\n', 'Le', ' ', 'lendemain', ', ', 'le', ' ', 'jardinier', ' ', 'de', ' ', 'l', '’', 'hospice', ' ', 'des', ' ', 'Ursulines', ' ', 'me', ' ', 'conduisit', ' ', 'chez', ' ', 'les', ' ', 'demoiselles', ' ', 'de', ' ', 'Lange', ', ', 'rue', ' ', 'des', ' ', 'Cerisiers', '.\\n- ', 'Eh', ' ', 'bien', ', ', 'c', '’', 'est', ' ', 'pas', ' ', 'trop', ' ', 'tôt', ', ', 'dit', '-', 'il', ' ', 'en', ' ', 'me', ' ', 'flanquant', ' ', 'dans', ' ', 'les', ' ', 'bras', ' ', 'de', ' ', 'Mariette', '.\\n', 'Du', ' ', 'moins', ', ', 'c', '’', 'est', ' ', 'ainsi', ' ', 'que', ' ', 'Mariette', ' ', 'me', ' ', 'présenta', ' ', 'mon', ' ', 'arrivée', ', ', 'mais', ' ', 'elle', ' ', 'ne', ' ', 'm', '’', 'a', ' ', 'jamais', ' ', 'aimé', '. ', 'Elle', ' ', 'me', ' ', 'fit', ' ', 'immédiatement', ' ', 'prendre', ' ', 'un', ' ', 'bain', ' ', 'dans', ' ', 'un', ' ', 'grand', ' ', 'baquet', ' ', 'avant', ' ', 'de', ' ', 'me', ' ', 'remettre', ' ', 'à', ' ', 'mes', ' ', 'tantes', ' ', 'adoptives', '. ', 'Elle', ' ', 'me', ' ', 'dévêtit', ' ', 'donc', ' ', 'de', ' ', 'la', ' ', 'tête', ' ', 'aux', ' ', 'pieds', ', ', 'et', ' ', 'c', '’', 'est', ' ', 'alors', ' ', 'qu', '’', 'elle', ' ', 'aperçut', ' ', 'le', ' ', 'signe', ' ', 'dont', ' ', 'l', '’', 'abbé', ' ', 'Pigrièche', ' ', 'n', '’', 'avait', ' ', 'pas', ' ', 'voulu', ' ', 'parler', '.\\n- ', 'Jésus', ' ', 'Marie', ' ! ', 's', '’', 'écria', '-', 't', '-', 'elle', ' ', 'en', ' ', 'me', ' ', 'lâchant', ' ', 'dans', ' ', 'le', ' ', 'baquet', '. ', 'C', '’', 'est', ' ', 'quoi', ' ', 'c', '’', 'est', '-', 'ti', ', ', 'cette', ' ', 'horreur', ' ? ', 'Mam', '’', 'zelle', ' ', 'Mélanie', ', ', 'à', ' ', 'la', ' ', 'garde', ', ', 'au', ' ', 'secours', ' !\\n', 'Je', ' ', 'me', ' ', 'mis', ' ', 'à', ' ', 'hurler', ' ', 'à', ' ', 'mon', ' ', 'tour', '. ', 'Elle', ' ', 'm', '’', 'attrapa', ' ', 'sous', ' ', 'le', ' ', 'bras', ' ', 'et', ' ', 'partit', ' ', 'en', ' ', 'courant', ' ', 'vers', ' ', 'le', ' ', 'petit', ' ', 'salon', ' ', 'où', ' ', 'mes', ' ', 'bienfaitrices', ' ', 'prenaient', ' ', 'le', ' ', 'thé', '.\\n- ', 'Mon', ' ', 'Dieu', ', ', 'qu', '’', 'est', '-', 'il', ' ', 'arrivé', ' ', 'à', ' ', 'ce', ' ', 'pauvre', ' ', 'enfant', ' ? ', 's', '’', 'effraya', ' ', 'Amélie', ', ', 'car', ' ', 'je', ' ', 'hurlais', ' ', 'à', ' ', 'pleins', ' ', 'poumons', '. ', 'Vous', ' ', 'l', '’', 'avez', ' ', 'ébouillanté', ', ', 'Mariette', ' ?\\n- ', 'Ça', ' ', 'vaudrait', ' ', 'mieux', ', ', 'répondit', ' ', 'la', ' ', 'servante', ' ', 'en', ' ', 'me', ' ', 'posant', ' ', 'devant', ' ', 'les', ' ', 'demoiselles', ' ', 'de', ' ', 'Lange', '. ', 'On', ' ', 'verrait', ' ', 'plus', ' ', 'c', '’', 'te', ' ', 'horreur', ' !\\n', 'Comme', ' ', 'j', '’', 'étais', ' ', 'tout', ' ', 'nu', ', ', 'les', ' ', 'demoiselles', ' ', 'comprirent', ' ', 'de', ' ', 'travers', '.\\n- ', 'Non', ', ', 'pas', ' ', 'ça', ', ', 'fit', ' ', 'Mariette', ' ', 'en', ' ', 'me', ' ', 'retournant', ' ', 'brutalement', '.\\n', 'Mes', ' ', 'hurlements', ' ', 'de', ' ', 'rage', ' ', 'ne', ' ', 'couvrirent', ' ', 'pas', ' ', 'les', ' ', 'exclamations', ' ', 'd', '’', 'effroi', ' ', 'de', ' ', 'mes', ' ', 'bienfaitrices', ' :\\n- ', 'Mon', ' ', 'Dieu', ', ', 'qu', '’', 'est', '-', 'ce', ' ', 'que', ' ', 'cela', ' ? ', 'Une', ' ', 'tache', ' ', 'de', ' ', 'naissance', ' ? ', 'Une', ' ', 'brûlure', ' ?\\n', 'Sur', ' ', 'mon', ' ', 'épaule', ' ', 'droite', ', ', 'je', ' ', 'portaise', ' ', 'porte', ' ', 'toujourse', ' ', 'dessin', ' ', 'd', '’', 'une', ' ', 'fleur', ' ', 'de', ' ', 'lys', ' ', 'qu', '’', 'un', ' ', 'fer', ' ', 'rouge', ' ', 'm', '’', 'avait', ' ', 'entré', ' ', 'dans', ' ', 'la', ' ', 'chair', '.\\n- ', 'Rhabillez', '-', 'le', ', ', 'ordonna', ' ', 'mademoiselle', ' ', 'Mélanie', ', ', 'nous', ' ', 'allons', ' ', 'à', ' ', 'l', '’', 'hospice', '.\\n', 'Elle', ' ', 's', '’', 'imaginait', ' ', 'qu', '’', 'elle', ' ', 'pourrait', ' ', 'me', ' ', 'retourner', ' ', 'comme', ' ', 'un', ' ', 'objet', ' ', 'défectueux', ', ', 'mais', ' ', 'c', '’', 'était', ' ', 'compter', ' ', 'sans', ' ', 'le', ' ', 'bon', ' ', 'abbé', ' ', 'Pigrièche', ', ', 'protecteur', ' ', 'des', ' ', 'orphelins', '.\\n- ', 'En', ' ', 'effet', ', ', 'dit', '-', 'il', ' ', 'après', ' ', 'avoir', ' ', 'écouté', ' ', 'les', ' ', 'demoiselles', ', ', 'Malo', ' ', 'a', ' ', 'une', ' ', 'petite', ' ', 'brûlure', '. ', 'Mais', ' ', 'elle', ' ', 'ne', ' ', 'se', ' ', 'voit', ' ', 'pas', ' ', 'quand', ' ', 'il', ' ', 'est', ' ', 'habillé', '.\\n- ', 'Une', ' ', 'brûlure', ', ', 'se', ' ', 'récria', ' ', 'Mélanie', ', ', 'mais', ' ', 'c', '’', 'est', ' ', 'la', ' ', 'marque', ' ', 'du', ' ', 'bagne', ' !\\n- ', 'Un', ' ', 'bagnard', ' ', 'de', ' ', 'deux', ' ', 'ans', ' ? ', 'Voyons', ', ', 'mademoiselle', ', ', 'ça', ' ', 'n', '’', 'existe', ' ', 'pas', '. ', 'Et', ' ', 'la', ' ', 'fleur', ' ', 'de', ' ', 'lys', ', ', 'c', '’', 'est', ' ', 'aussi', ' ', 'l', '’', 'emblème', ' ', 'de', ' ', 'la', ' ', 'royauté', '. ', 'C', '’', 'est', ' ', 'peut', '-', 'être', ' ', 'hum', '… ', 'un', ' ', 'secret', ' ', 'd', '’', 'État', '. ', 'Cet', ' ', 'enfant', ' ', 'est', ' ', 'si', ' ', 'beau', ', ', 'si', ' ', 'hum', '… ', 'aristocratique', '.\\n', 'Bref', ', ', 'l', '’', 'abbé', ' ', 'n', '’', 'avait', ' ', 'pas', ' ', 'du', ' ', 'tout', ' ', 'l', '’', 'intention', ' ', 'de', ' ', 'me', ' ', 'récupérer', ' ', 'parce', ' ', 'que', ' ', 'donner', ', ', 'c', '’', 'est', ' ', 'donner', ', ', 'et', ' ', 'reprendre', ', ', 'c', '’', 'est', ' ', 'voler', ', ', 'comme', ' ', 'disait', ' ', 'le', ' ', 'boucher', ' ', 'en', ' ', 'laissant', ' ', 'son', ' ', 'couteau', ' ', 'dans', ' ', 'le', ' ', 'ventre', ' ', 'de', ' ', 'sa', ' ', 'femme', '.\\n', 'Quand', ' ', 'on', ' ', 'écrit', ' ', 'ses', ' ', 'mémoires', ', ', 'on', ' ', 'ne', ' ', 'fait', ' ', 'pas', ' ', 'que', ' ', 'raconter', ' ', 'ses', ' ', 'souvenirs', ', ', 'on', ' ', 'retrace', ' ', 'aussi', ' ', 'son', ' ', 'cheminement', ' ', 'moral', '.\\n', 'Je', ' ', 'vais', ' ', 'donc', ' ', 'sauter', ' ', 'quelques', ' ', 'années', ' ', 'parce', ' ', 'que', ', ', 'à', ' ', 'deux', ' ', 'ans', ', ', 'du', ' ', 'point', ' ', 'de', ' ', 'vue', ' ', 'moral', ', ', 'j', '’', 'étais', ' ', 'aussi', ' ', 'plat', ' ', 'qu', '’', 'une', ' ', 'limace', ' ', 'qui', ' ', 'viendrait', ' ', 'de', ' ', 'se', ' ', 'faire', ' ', 'marcher', ' ', 'dessus', '. ', 'Mais', ' ', 'à', ' ', 'cinq', ' ', 'ans', ', ', 'je', ' ', 'distinguais', ' ', 'déjà', ' ', 'le', ' ', 'bien', ' ', 'du', ' ', 'mal', '. ', 'Le', ' ', 'bien', ' ', 'était', ' ', 'un', ' ', 'bonhomme', ' ', 'en', ' ', 'pain', ' ', 'd', '’', 'épice', ' ', 'que', ' ', 'tante', ' ', 'Amélie', ' ', 'achetait', ' ', 'le', ' ', 'dimanche', ' ', 'à', ' ', 'un', ' ', 'vendeur', ' ', 'des', ' ', 'rues', ' ', 'pour', ' ', 'récompenser', ' ', 'une', ' ', 'semaine', ' ', 'où', ' ', 'je', ' ', 'n', '’', 'avais', ' ', 'pas', ' ', 'fait', ' ', 'de', ' ', 'sottises', '. ', 'Le', ' ', 'mal', ' ', 'était', ' ', 'un', ' ', 'cabinet', ' ', 'noir', ' ', 'dans', ' ', 'lequel', ' ', 'tante', ' ', 'Mélanie', ' ', 'm', '’', 'enfournait', ' ', 'comme', ' ', 'le', ' ', 'Boulanger', '* ', 'fait', ' ', 'avec', ' ', 'ses', ' ', 'clients', '. (* ', 'Le', ' ', 'Boulanger', ' ', 'était', ' ', 'le', ' ', 'nom', ' ', 'du', ' ', 'diable', ' ', 'dans', ' ', 'la', ' ', 'langue', ' ', 'des', ' ', 'voleurs', '.)\\n', 'Malgré', ' ', 'les', ' ', 'efforts', ' ', 'de', ' ', 'mes', ' ', 'tantes', ' ', 'pour', ' ', 'me', ' ', 'donner', ' ', 'une', ' ', 'bonne', ' ', 'éducation', ', ', 'je', ' ', 'commis', ' ', 'mon', ' ', 'premier', ' ', 'vol', ' ', 'à', ' ', 'sept', ' ', 'ans', '.\\n', 'C', '’', 'était', ' ', 'un', ' ', 'pot', ' ', 'de', ' ', 'confiture', ' ', 'que', ' ', 'je', ' ', 'vidai', ' ', 'avec', ' ', 'l', '’', 'aide', ' ', 'de', ' ', 'La', ' ', 'Bouillie', ', ', 'une', ' ', 'personne', ' ', 'dont', ' ', 'je', ' ', 'parlerai', ' ', 'plus', ' ', 'tard', '. ', 'Après', ' ', 'avoir', ' ', 'raclé', ' ', 'jusqu', '’', 'au', ' ', 'couvercle', ', ', 'j', '’', 'emplis', ' ', 'le', ' ', 'pot', ' ', 'avec', ' ', 'de', ' ', 'la', ' ', 'terre', ' ', 'et', ' ', 'le', ' ', 'replaçai', ' ', 'en', ' ', 'haut', ' ', 'de', ' ', 'l', '’', 'armoire', '. ', 'Au', ' ', 'bout', ' ', 'de', ' ', 'quelques', ' ', 'jours', ', ', 'Mariette', ', ', 'en', ' ', 'fourrageant', ' ', 'dans', ' ', 'ses', ' ', 'étagères', ', ', 'aperçut', ' ', 'ce', ' ', 'pot', ' ', 'noirâtre', ' ', 'qu', '’', 'elle', ' ', 'alla', ' ', 'porter', ' ', 'à', ' ', 'mes', ' ', 'tantes', ' ', 'en', ' ', 'réclamant', ' ', 'justice', '.\\n', 'Tante', ' ', 'Mélanie', ' ', 'm', '’', 'enfourna', ' ', 'dans', ' ', 'le', ' ', 'cabinet', ' ', 'sans', ' ', 'rien', ' ', 'à', ' ', 'manger', ' ', 'jusqu', '’', 'au', ' ', 'soir', '. ', 'L', '’', 'apparition', ' ', 'd', '’', 'un', ' ', 'bonhomme', ' ', 'en', ' ', 'pain', ' ', 'd', '’', 'épice', ' ', 'dans', ' ', 'l', '’', 'entrebâillement', ' ', 'de', ' ', 'la', ' ', 'porte', ' ', 'à', ' ', 'l', '’', 'heure', ' ', 'du', ' ', 'dîner', ' ', 'porta', ' ', 'un', ' ', 'coup', ' ', 'à', ' ', 'mon', ' ', 'sens', ' ', 'moral', '. ', 'C', '’', 'était', ' ', 'comme', ' ', 'si', ' ', 'le', ' ', 'bien', ' ', 'venait', ' ', 'tenir', ' ', 'compagnie', ' ', 'au', ' ', 'mal', '.\\n', 'Quand', ' ', 'mes', ' ', 'tantes', ' ', 'invitaient', ' ', 'l', '’', 'abbé', ' ', 'Pigrièche', ', ', 'elles', ' ', 'se', ' ', 'plaignaient', ' ', 'de', ' ', 'mes', ' ', 'bêtises', '.\\n- ', 'C', '’', 'est', ' ', 'bien', ' ', 'tout', ' ? ', 'disait', '-', 'il', ' ', 'comme', ' ', 'le', ' ', 'monsieur', ' ', 'à', ' ', 'qui', ' ', 'sa', ' ', 'femme', ' ', 'venait', ' ', 'de', ' ', 'donner', ' ', 'des', ' ', 'quintuplés', '.\\n- ', 'Peut', '-', 'être', ' ', 'faudrait', '-', 'il', ' ', 'lui', ' ', 'apprendre', ' ', 'à', ' ', 'lire', ' ', 'le', ' ', 'caté', '-', 'chisme', ' ? ', 's', '’', 'informa', ' ', 'un', ' ', 'jour', ' ', 'tante', ' ', 'Mélanie', '.\\n- ', 'Vous', ' ', 'pourriez', ' ', 'même', ' ', 'lui', ' ', 'apprendre', ' ', 'à', ' ', 'lire', ' ', 'tout', ' ', 'court', '.\\n', 'Il', ' ', 'se', ' ', 'tourna', ' ', 'alors', ' ', 'vers', ' ', 'moi', ' ', 'et', ' ', 'me', ' ', 'demanda', ' :\\n- ', 'Est', '-', 'ce', ' ', 'que', ' ', 'tu', ' ', 'sais', ' ', 'seulement', ' ', 'écrire', ' ', 'ton', ' ', 'prénom', ' ?\\n', 'On', ' ', 'me', ' ', 'donna', ' ', 'une', ' ', 'plume', ', ', 'de', ' ', 'l', '’', 'encre', ' ', 'et', ' ', 'du', ' ', 'papier', '. ', 'En', ' ', 'm', '’', 'appliquant', ' ', 'de', ' ', 'toutes', ' ', 'mes', ' ', 'forces', ', ', 'je', ' ', 'réussis', ' ', 'à', ' ', 'tracer', ' ', 'les', ' ', 'trois', ' ', 'premières', ' ', 'lettres', ' ', 'de', ' ', 'mon', ' ', 'prénom', '.\\n- ', 'C', '’', 'est', ' ', 'bien', ' ', 'tout', ' ? ', 'répéta', ' ', 'l', '’', 'abbé', '.\\n- ', 'C', '’', 'est', ' ', 'tout', ', ', 'dis', '-', 'je', '.\\n', 'L', '’', 'abbé', ' ', 'toussota', ' ', 'et', ' ', 'ajouta', ' ', 'un', ' « ', 'O', ' ».\\n- ', 'Petit', ' ', 'malin', ', ', 'dit', '-', 'il', ' ', 'en', ' ', 'm', '’', 'observant', ' ', 'derrière', ' ', 'le', ' ', 'buisson', ' ', 'noir', ' ', 'de', ' ', 'ses', ' ', 'sourcils', '.\\n', 'En', ' ', 'quittant', ' ', 'les', ' ', 'demoiselles', ' ', 'de', ' ', 'Lange', ', ', 'il', ' ', 'leur', ' ', 'recommanda', ' ', 'de', ' ', 'ne', ' ', 'jamais', ' ', 'me', ' ', 'laisser', ' ', 'quitter', ' ', 'la', ' ', 'maison', ' ', 'sans', ' ', 'surveillance', ', ', 'ce', ' ', 'qui', ' ', 'm', '’', 'amène', ' ', 'à', ' ', 'parler', ' ', 'du', ' ', 'trou', ' ', 'que', ' ', 'je', ' ', 'fis', ' ', 'dans', ' ', 'le', ' ', 'mur', ' ', 'de', ' ', 'notre', ' ', 'jardin', '.\\n\\n', '2', '. ', 'La', ' ', 'Bouillie', ' ', 'et', ' ', 'mademoiselle', ' ', 'Léonie', ' ', 'de', ' ', 'Bonnechose', '. - ', 'L', '’', 'affaire', ' ', 'du', ' ', 'collier', '.\\n\\n', 'Notre', ' ', 'jardin', ' ', 'était', ' ', 'un', ' ', 'fouillis', ' ', 'de', ' ', 'tulipes', ', ', 'de', ' ', 'carottes', ' ', 'et', ' ', 'de', ' ', 'noisetiers', '. ', 'Le', ' ', 'mur', ' ', 'qui', ' ', 'l', '’', 'entourait', ' ', 'nous', ' ', 'cachait', ' ', 'à', ' ', 'la', ' ', 'vue', ' ', 'des', ' ', 'voisins', ' : ', 'à', ' ', 'droite', ', ', 'monsieur', ' ', 'Lamproie', ', ', 'à', ' ', 'gauche', ', ', 'monsieur', ' ', 'et', ' ', 'madame', ' ', 'de', ' ', 'Bonnechose', ' ', 'et', ' ', 'leur', ' ', 'fille', ', ', 'mademoiselle', ' ', 'Léonie', '.\\n', 'Monsieur', ' ', 'Lamproie', ' ', 'venait', ' ', 'tous', ' ', 'les', ' ', 'après', '-', 'midi', ' ', 'à', ' ', 'cinq', ' ', 'heures', ' ', 'pour', ' ', 'le', ' ', 'whist', ' ', 'de', ' ', 'mes', ' ', 'tantes', '. ', 'On', ' ', 'y', ' ', 'jouait', ' ', 'de', ' ', 'l', '’', 'argent', ', ', 'même', ' ', 'quand', ' ', 'l', '’', 'abbé', ' ', 'Pigrièche', ' ', 'faisait', ' ', 'le', ' ', 'quatrième', '. ', 'Le', ' ', 'camp', ' ', 'de', ' ', 'monsieur', ' ', 'Lamproie', ' ', 'gagnait', ' ', 'presque', ' ', 'toujours', ' ', 'et', ' ', 'mes', ' ', 'tantes', ' ', 'se', ' ', 'laissaient', ' ', 'plumer', ', ', 'en', ' ', 'pensant', ' ', 'que', ' ', 'c', '’', 'est', ' ', 'normal', ' ', 'de', ' ', 'perdre', ' ', 'quand', ' ', 'on', ' ', 'est', ' ', 'une', ' ', 'dame', '. ', 'En', ' ', 'fait', ', ', 'monsieur', ' ', 'Lamproie', ' ', 'trichait', '. ', 'Il', ' ', 'plaçait', ' ', 'tante', ' ', 'Amélie', ' ', 'dos', ' ', 'au', ' ', 'miroir', ' ', 'dans', ' ', 'lequel', ' ', 'son', ' ', 'jeu', ' ', 'se', ' ', 'reflétait', ' ', 'ou', ' ', 'il', ' ', 'posait', ' ', 'devant', ' ', 'lui', ' ', 'sa', ' ', 'tabatière', ' ', 'en', ' ', 'argent', ' ', 'qui', ' ', 'réfléchissait', ' ', 'les', ' ', 'cartes', ' ', 'au', ' ', 'fur', ' ', 'et', ' ', 'à', ' ', 'mesure', ' ', 'qu', '’', 'il', ' ', 'les', ' ', 'distribuait', '.\\n', 'Je', ' ', 'connaissais', ' ', 'bien', ' ', 'la', ' ', 'grosse', ' ', 'servante', ' ', 'de', ' ', 'monsieur', ' ', 'Lamproie', ', ', 'Marie', ' ', 'Torne', ', ', 'parce', ' ', 'qu', '’', 'elle', ' ', 'passait', ' ', 'des', ' ', 'après', '-', 'midi', ' ', 'entiers', ' ', 'à', ' ', 'se', ' ', 'chauffer', ' ', 'dans', ' ', 'la', ' ', 'cuisine', ' ', 'de', ' ', 'Mariette', '. ', 'De', ' ', 'temps', ' ', 'en', ' ', 'temps', ', ', 'Mariette', ' ', 'lui', ' ', 'demandait', ' :\\n- ', 'Vous', ' ', 'avez', '-', 'ti', ' ', 'rien', ' ', 'à', ' ', 'faire', ', ', 'Marie', ' ?\\n- ', 'Pensez', ' ', 'donc', ', ', 'y', ' ', 'a', ' ', 'La', ' ', 'Bouillie', ' !\\n', 'Cette', ' ', 'phrase', ' ', 'me', ' ', 'devint', ' ', 'compréhensible', ' ', 'le', ' ', 'jour', ' ', 'où', ' ', 'une', ' ', 'petite', ' ', 'fille', ' ', 'vint', ' ', 'la', ' ', 'chercher', ' ', 'chez', ' ', 'nous', '.\\n- ', 'Quéque', ' ', 'tu', ' ', 'fais', ' ', 'z', '’', 'ici', ', ', 'La', ' ', 'Bouillie', ' ? ', 'l', '’', 'accueillit', ' ', 'Marie', ' ', 'Torne', '.\\n- ', 'C', '’', 'est', ' ', 'le', ' ', 'dabuche', ' ', 'qui', ' ', 'veut', ' ', 'sa', ' ', 'boutanche', '*. (* ', 'Le', ' ', 'patron', ' ', 'veut', ' ', 'une', ' ', 'bouteille', ' ', 'de', ' ', 'vin', '.)\\n- ', 'Ah', ' ', 'là', ' ', 'là', ', ', 'si', ' ', 'c', '’', 'est', ' ', 'pas', ' ', 'malheureux', ' ', 'que', ' ', 'je', ' ', 'dois', ' ', 'tout', ' ', 'faire', ', ', 'gémit', ' ', 'Marie', ' ', 'Torne', ' ', 'en', ' ', 'se', ' ', 'soulevant', '. ', 'Allez', ', ', 'hue', ' ', 'donc', ', ', 'cocotte', ' !\\n', 'Une', ' ', 'gifle', ' ', 'mit', ' ', 'en', ' ', 'route', ' ', 'La', ' ', 'Bouillie', ' ', 'qui', ' ', 's', '’', 'essuya', ' ', 'la', ' ', 'joue', ' ', 'sans', ' ', 'faire', ' ', 'de', ' ', 'commentaire', '. ', 'Elle', ' ', 'était', ' ', 'très', ' ', 'maigre', ' ', 'et', ' ', 'elle', ' ', 'avait', ' ', 'toujours', ' ', 'faim', ', ', 'mais', ' ', 'elle', ' ', 'n', '’', 'arrivait', ' ', 'pas', ' ', 'à', ' ', 'faire', ' ', 'pitié', ' ', 'parce', ' ', 'qu', '’', 'elle', ' ', 'avait', ' ', 'de', ' ', 'grosses', ' ', 'joues', ' ', 'enflées', ' ', 'comme', ' ', 'si', ' ', 'elle', ' ', 'avait', ' ', 'la', ' ', 'bouche', ' ', 'pleine', ' ', 'de', ' ', 'manger', ', ', 'et', ' ', 'c', '’', 'était', ' ', 'd', '’', 'ailleurs', ' ', 'pour', ' ', 'cela', ' ', 'qu', '’', 'on', ' ', 'l', '’', 'appelait', ' ', 'La', ' ', 'Bouillie', '. ', 'Ce', ' ', 'nom', ' ', 'si', ' ', 'original', ' ', 'et', ' ', 'la', ' ', 'façon', ' ', 'mystérieuse', ' ', 'dont', ' ', 'elle', ' ', 'avait', ' ', 'parlé', ' ', 'me', ' ', 'donnèrent', ' ', 'une', ' ', 'violente', ' ', 'envie', ' ', 'de', ' ', 'la', ' ', 'revoir', '. ', 'Ayant', ' ', 'compris', ' ', 'qu', '’', 'elle', ' ', 'vivait', ' ', 'chez', ' ', 'monsieur', ' ', 'Lamproie', ' ', 'de', ' ', 'l', '’', 'autre', ' ', 'côté', ' ', 'du', ' ', 'mur', ', ', 'j', '’', 'y', ' ', 'agrandis', ' ', 'un', ' ', 'trou', ' ', 'à', ' ', 'l', '’', 'aide', ' ', 'd', '’', 'un', ' ', 'couteau', ' ', 'de', ' ', 'cuisine', '. ', 'Je', ' ', 'réussis', ' ', 'à', ' ', 'desceller', ' ', 'une', ' ', 'pierre', ', ', 'ce', ' ', 'qui', ' ', 'faisait', ' ', 'une', ' ', 'ouverture', ' ', 'de', ' ', 'la', ' ', 'taille', ' ', 'd', '’', 'un', ' ', 'guichet', ' ', 'de', ' ', 'prison', '. ', 'La', ' ', 'Bouillie', ' ', 'allait', ' ', 'parfois', ' ', 'chercher', ' ', 'quelques', ' ', 'légumes', ' ', 'au', ' ', 'fond', ' ', 'du', ' ', 'jardin', ', ', 'et', ' ', 'c', '’', 'est', ' ', 'là', ' ', 'qu', '’', 'un', ' ', 'jour', ' ', 'elle', ' ', 'reçut', ' ', 'un', ' ', 'caillou', ' ', 'en', ' ', 'plein', ' ', 'front', '.\\n- ', 'Ohé', ', ', 'c', '’', 'est', ' ', 'moi', ' ! ', 'l', '’', 'appelai', '-', 'je', ' ', 'avec', ' ', 'un', ' ', 'grand', ' ', 'sourire', ' ', 'de', ' ', 'satisfaction', '.\\n- ', 'Tézigue', ' ? ', 'Tu', ' ', 'veux', ' ', 'que', ' ', 'je', ' ', 'te', ' ', 'chique', ' ', 'la', ' ', 'gueule', ' ?\\n', 'Nous', ' ', 'fûmes', ' ', 'tout', ' ', 'de', ' ', 'suite', ' ', 'amis', '. ', 'J', '’', 'avais', ' ', 'sept', ' ', 'ans', ', ', 'elle', ' ', 'en', ' ', 'avait', ' ', 'neuf', '. ', 'Je', ' ', 'ne', ' ', 'comprenais', ' ', 'pas', ' ', 'la', ' ', 'moitié', ' ', 'de', ' ', 'ce', ' ', 'qu', '’', 'elle', ' ', 'me', ' ', 'disait', ', ', 'mais', ' ', 'elle', ' ', 'm', '’', 'enchanta', ' ', 'en', ' ', 'm', '’', 'apprenant', ' ', 'cette', ' ', 'chanson', ' :\\n\\t', 'C', '’', 'est', ' ', 'dans', ' ', 'la', ' ', 'rue', ' ', 'du', ' ', 'Mail', '\\n\\t', 'Où', ' ', 'j', '’', 'ai', ' ', 'été', ' ', 'coltigé', ', \\n\\t', 'Maluré', '\\n\\t', 'Et', ' ', 'trois', ' ', 'coquins', ' ', 'de', ' ', 'railles', ' \\n\\t', 'Lirlonfa', ' ', 'malurette', '\\n\\t', 'Sur', ' ', 'mézigue', ' ', 'ont', ' ', 'foncé', ' \\n\\t', 'Lirlonfa', ' ', 'maluré', ' \\n', 'Chaque', ' ', 'fois', ' ', 'que', ' ', 'je', ' ', 'me', ' ', 'fredonnais', ' « ', 'Lirlonfa', ' ', 'maluré', ' », ', 'je', ' ', 'me', ' ', 'sentais', ' ', 'petit', ', ', 'si', ' ', 'petit', ' ', 'qu', '’', 'on', ' ', 'aurait', ' ', 'pu', ' ', 'me', ' ', 'prendre', ' ', 'dans', ' ', 'les', ' ', 'bras', ' ', 'et', ' ', 'me', ' ', 'bercer', '.\\n', 'Nous', ' ', 'partagions', ' ', 'tout', ', ', 'La', ' ', 'Bouillie', ' ', 'et', ' ', 'moi', '. ', 'Je', ' ', 'lui', ' ', 'portais', ' ', 'les', ' ', 'restes', ' ', 'de', ' ', 'mon', ' ', 'dîner', ' ', 'que', ' ', 'j', '’', 'avais', ' ', 'fait', ' ', 'tomber', ' ', 'sur', ' ', 'mes', ' ', 'genoux', ' ', 'à', ' ', 'table', ' ', 'puis', ' ', 'que', ' ', 'j', '’', 'enveloppais', ' ', 'dans', ' ', 'ma', ' ', 'serviette', ', ', 'elle', ' ', 'me', ' ', 'passait', ' ', 'par', ' ', 'le', ' ', 'guichet', ' ', 'les', ' ', 'cerises', ' ', 'volées', ' ', 'au', ' ', 'jardin', ' ', 'de', ' ', 'monsieur', ' ', 'Lamproie', ' ', 'en', ' ', 'me', ' ', 'disant', ' :\\n- ', 'Colle', '-', 'toi', ' ', 'ça', ' ', 'dans', ' ', 'le', ' ', 'fusil', ', ', 'frangin', '.\\n', 'Quand', ' ', 'nous', ' ', 'nous', ' ', 'faisions', ' ', 'prendre', ', ', 'c', '’', 'était', ' ', 'le', ' ', 'cabinet', ' ', 'noir', ' ', 'pour', ' ', 'moi', ' ', 'et', ' ', 'pour', ' ', 'elle', ' ', 'une', ' ', 'tournée', ' ', 'qui', ' ', 'lui', ' ', 'faisait', ' ', 'l', '’', 'œil', ' ', 'poché', ' ', 'et', ' ', 'la', ' ', 'lèvre', ' ', 'fendue', '. ', 'Mais', ' ', 'personne', ' ', 'ne', ' ', 'découvrit', ' ', 'comment', ' ', 'nous', ' ', 'communiquions', ' ', 'car', ' ', 'je', ' ', 'replaçais', ' ', 'toujours', ' ', 'la', ' ', 'pierre', ' ', 'dans', ' ', 'son', ' ', 'trou', '.\\n', 'Peu', ' ', 'de', ' ', 'temps', ' ', 'après', ' ', 'avoir', ' ', 'percé', ' ', 'le', ' ', 'mur', ' ', 'de', ' ', 'droite', ', ', 'mon', ' ', 'couteau', ' ', 'de', ' ', 'cuisine', ' ', 'eut', ' ', 'envie', ' ', 'de', ' ', 'reprendre', ' ', 'du', ' ', 'service', ' ', 'et', ' ', 'je', ' ', 'pratiquai', ' ', 'une', ' ', 'ouverture', ' ', 'dans', ' ', 'le', ' ', 'mur', ' ', 'de', ' ', 'gauche', '. ', 'La', ' ', 'chance', ' ', 'voulut', ' ', 'que', ' ', 'je', ' ', 'débouche', ' ', 'juste', ' ', 'à', ' ', 'hauteur', ' ', 'de', ' ', 'l', '’', 'arbre', ' ', 'où', ' ', 'mademoiselle', ' ', 'de', ' ', 'Bonnechose', ' ', 'se', ' ', 'balançait', '. ', 'Ma', ' ', 'première', ' ', 'vision', ' ', 'fut', ' ', 'donc', ' ', 'celle', ' ', 'de', ' ', 'boucles', ' ', 'd', '’', 'or', ' ', 'et', ' ', 'de', ' ', 'dessous', ' ', 'de', ' ', 'dentelle', ' ', 'blanche', ' ', 's', '’', 'envolant', ' ', 'vers', ' ', 'le', ' ', 'ciel', '. ', 'Quand', ' ', 'la', ' ', 'demoiselle', ' ', 'revint', ' ', 'vers', ' ', 'moi', ' ', 'sur', ' ', 'sa', ' ', 'balançoire', ', ', 'je', ' ', 'lui', ' ', 'jetai', ' ', 'un', ' ', 'caillou', '. ', 'Elle', ' ', 'poussa', ' ', 'un', ' ', 'cri', ' ', 'de', ' ', 'surprise', ' ', 'et', ', ', 'tout', ' ', 'en', ' ', 'se', ' ', 'frottant', ' ', 'le', ' ', 'coude', ', ', 'regarda', ' ', 'autour', ' ', 'd', '’', 'elle', '.\\n- ', 'Ohé', ', ', 'dis', '-', 'je', ' ', 'avec', ' ', 'le', ' ', 'grand', ' ', 'sourire', ' ', 'qui', ' ', 'm', '’', 'avait', ' ', 'déjà', ' ', 'si', ' ', 'bien', ' ', 'réussi', ', ', 'c', '’', 'est', ' ', 'mézigue', ' !\\n- ', 'Oh', ', ', 'c', '’', 'est', ' ', 'vous', ' ! ', 'Qui', ' ', 'êtes', '-', 'vous', ' ?\\n- ', 'Ben', ', ', 'moi', '. ', 'Malo', '.\\n- ', 'Vous', ' ', 'êtes', ' ', 'un', ' ', 'bandit', ' ', 'avec', ' ', 'un', ' ', 'couteau', '. ', 'Je', ' ', 'vais', ' ', 'chercher', ' ', 'ma', ' ', 'mère', '.\\n', 'Elle', ' ', 'bondit', ' ', 'de', ' ', 'sa', ' ', 'balançoire', ' ', 'en', ' ', 'appelant', ' « ', 'Maman', ', ', 'maman', ' ! », ', 'et', ' ', 'je', ' ', 'rebouchai', ' ', 'le', ' ', 'mur', '.\\n', 'Le', ' ', 'lendemain', ', ', 'madame', ' ', 'de', ' ', 'Bonnechose', ' ', 'heurta', ' ', 'à', ' ', 'notre', ' ', 'porte', ' ', 'et', ' ', 'je', ' ', 'm', '’', 'apprêtai', ' ', 'à', ' ', 'passer', ' ', 'un', ' ', 'mauvais', ' ', 'quart', ' ', 'd', '’', 'heure', ' ', 'quand', ' ', 'Mariette', ' ', 'me', ' ', 'dit', ' ', 'd', '’', 'aller', ' ', 'voir', ' ', 'tante', ' ', 'Mélanie', ' ', 'au', ' ', 'petit', ' ', 'salon', '.\\n- ', 'Madame', ' ', 'de', ' ', 'Bonnechose', ' ', 'a', ' ', 'la', ' ', 'gentillesse', ' ', 'de', ' ', 't', '’', 'inviter', ' ', 'à', ' ', 'une', ' ', 'promenade', ' ', 'à', ' ', 'âne', ', ', 'm', '’', 'apprit', ' ', 'ma', ' ', 'tante', '. ', 'Remercie', '-', 'la', ' ', 'et', ' ', 'ôte', ' ', 'les', ' ', 'mains', ' ', 'de', ' ', 'tes', ' ', 'poches', '.\\n', 'Je', ' ', 'rejoignis', ' ', 'mademoiselle', ' ', 'Léonie', ' ', 'qui', ' ', 'était', ' ', 'déjà', ' ', 'assise', ' ', 'dans', ' ', 'la', ' ', 'carriole', ' ', 'tirée', ' ', 'par', ' ', 'Biribi', '. ', 'Je', ' ', 'me', ' ', 'hissai', ' ', 'à', ' ', 'côté', ' ', 'd', '’', 'elle', '.\\n- ', 'Je', ' ', 'n', '’', 'ai', ' ', 'pas', ' ', 'dit', ' ', 'à', ' ', 'maman', ' ', 'que', ' ', 'vous', ' ', 'étiez', ' ', 'un', ' ', 'bandit', ' ', 'avec', ' ', 'un', ' ', 'couteau', ', ', 'me', ' ', 'glissa', '-', 't', '-', 'elle', '. ', 'Mais', ' ', 'je', ' ', 'le', ' ', 'lui', ' ', 'dirai', ' ', 'si', ' ', 'vous', ' ', 'ne', ' ', 'faites', ' ', 'pas', ' ', 'tout', ' ', 'ce', ' ', 'que', ' ', 'je', ' ', 'veux', '.\\n', 'Mademoiselle', ' ', 'Léonie', ' ', 'ne', ' ', 'me', ' ', 'demanda', ' ', 'rien', ' ', 'de', ' ', 'plus', ' ', 'ce', ' ', 'jour', '-', 'là', ' ', 'que', ' ', 'de', ' ', 'démêler', ' ', 'le', ' ', 'fil', ' ', 'de', ' ', 'son', ' ', 'cerf', '-', 'volant', '. ', 'De', ' ', 'retour', ' ', 'à', ' ', 'la', ' ', 'maison', ', ', 'je', ' ', 'cherchai', ' ', 'quel', ' ', 'cadeau', ' ', 'je', ' ', 'pourrais', ' ', 'faire', ' ', 'à', ' ', 'ma', ' ', 'voisine', ' ', 'lorsque', ' ', 'je', ' ', 'la', ' ', 'reverrais', '. ', 'J', '’', 'avais', ' ', 'malheureusement', ' ', 'mangé', ' ', 'la', ' ', 'tête', ' ', 'de', ' ', 'mon', ' ', 'bonhomme', ' ', 'en', ' ', 'pain', ' ', 'd', '’', 'épice', '. ', 'Je', ' ', 'décidai', ' ', 'de', ' ', 'prendre', ' ', 'conseil', ' ', 'auprès', ' ', 'de', ' ', 'ma', ' ', 'tante', ' ', 'Amélie', ' ', 'qui', ' ', 'était', ' ', 'ma', ' ', 'préférée', '. ', 'Elle', ' ', 'était', ' ', 'en', ' ', 'train', ' ', 'de', ' ', 'broder', ' ', 'un', ' ', 'mouchoir', ' ', 'au', ' ', 'salon', ', ', 'sa', ' ', 'boîte', ' ', 'à', ' ', 'couture', ' ', 'grande', ' ', 'ouverte', ' ', 'à', ' ', 'côté', ' ', 'd', '’', 'elle', '.\\n- ', 'Tante', ' ', 'Amélie', ', ', 'que', ' ', 'donne', '-', 't', '-', 'on', ' ', 'à', ' ', 'une', ' ', 'dame', ' ', 'pour', ' ', 'lui', ' ', 'faire', ' ', 'plaisir', ' ?\\n- ', 'Un', ' ', 'collier', ', ', 'me', ' ', 'répondit', '-', 'elle', ' ', 'en', ' ', 'riant', ', ', 'car', ' ', 'elle', ' ', 'riait', ' ', 'toujours', ' ', 'de', ' ', 'mes', ' ', 'questions', '.\\n', 'Mais', ' ', 'où', ' ', 'trouver', ' ', 'un', ' ', 'collier', ' ? ', 'Mes', ' ', 'tantes', ' ', 'avaient', ' ', 'chacune', ' ', 'un', ' ', 'rang', ' ', 'de', ' ', 'perles', '. ', 'Il', ' ', 'm', '’', 'arrivait', ', ', 'bien', ' ', 'sûr', ', ', 'd', '’', 'emprunter', ' ', 'des', ' ', 'objets', ' ', 'comme', ' ', 'le', ' ', 'couteau', ' ', 'de', ' ', 'cuisine', ', ', 'avec', ' ', 'l', '’', 'intention', ' ', 'de', ' ', 'les', ' ', 'rendre', ' ', 'prochainement', '. ', 'Mais', ' ', 'il', ' ', 'me', ' ', 'serait', ' ', 'plus', ' ', 'difficile', ' ', 'd', '’', 'emprunter', ' ', 'les', ' ', 'colliers', ' ', 'de', ' ', 'mes', ' ', 'tantes', '. ', 'L', '’', 'illumination', ' ', 'me', ' ', 'vint', ' ', 'de', ' ', 'la', ' ', 'boîte', ' ', 'à', ' ', 'couture', '. ', 'Tante', ' ', 'Amélie', ' ', 'y', ' ', 'rangeait', ' ', 'des', ' ', 'boutons', ', ', 'dorés', ', ', 'argentés', ' ', 'ou', ' ', 'bien', ' ', 'nacrés', '. ', 'Je', ' ', 'fis', ' ', 'mon', ' ', 'emprunt', ' ', 'un', ' ', 'matin', ' ', 'de', ' ', 'bonne', ' ', 'heure', '. ', 'J', '’', 'avais', ' ', 'prévu', ' ', 'de', ' ', 'mettre', ' ', 'dans', ' ', 'la', ' ', 'boîte', ' ', 'à', ' ', 'boutons', ' ', 'des', ' ', 'petits', ' ', 'cailloux', ' ', 'qui', ' ', 'feraient', ' ', 'le', ' ', 'même', ' ', 'bruit', '. ', 'Tant', ' ', 'que', ' ', 'tante', ' ', 'Amélie', ' ', 'ne', ' ', 'soulèverait', ' ', 'pas', ' ', 'le', ' ', 'couvercle', ', ', 'tout', ' ', 'irait', ' ', 'bien', ' ', 'pour', ' ', 'moi', '. ', 'J', '’', 'enfilai', ' ', 'mes', ' ', 'boutons', ', ', 'et', ' ', 'mon', ' ', 'collier', ' ', 'une', ' ', 'fois', ' ', 'achevé', ' ', 'me', ' ', 'laissa', ' ', 'béat', ' ', 'd', '’', 'admiration', '. ', 'Je', ' ', 'dus', ' ', 'attendre', ' ', 'quelques', ' ', 'jours', ' ', 'avant', ' ', 'que', ' ', 'mes', ' ', 'tantes', ' ', 'se', ' ', 'décident', ' ', 'à', ' ', 'rendre', ' ', 'sa', ' ', 'politesse', ' ', 'à', ' ', 'madame', ' ', 'de', ' ', 'Bonnechose', ' ', 'en', ' ', 'l', '’', 'invitant', ' ', 'à', ' ', 'un', ' ', 'petit', ' ', 'goûter', '. ', 'Et', ' ', 'je', ' ', 'dus', ' ', 'encore', ' ', 'patienter', ' ', 'une', ' ', 'heure', ' ', 'avant', ' ', 'de', ' ', 'pouvoir', ' ', 'emmener', ' ', 'mademoiselle', ' ', 'Léonie', ' ', 'au', ' ', 'jardin', '.\\n- ', 'J', '’', 'ai', ' ', 'quelque', ' ', 'chose', ' ', 'pour', ' ', 'vous', ', ', 'dis', '-', 'je', ' ', 'en', ' ', 'sortant', ' ', 'le', ' ', 'collier', ' ', 'de', ' ', 'ma', ' ', 'poche', '.\\n- ', 'Qu', '’', 'est', '-', 'ce', ' ', 'que', ' ', 'c', '’', 'est', ' ? ', 'fit', '-', 'elle', ' ', 'en', ' ', 'l', '’', 'examinant', ' ', 'sans', ' ', 'y', ' ', 'toucher', '.\\n- ', 'Un', ' ', 'beau', ' ', 'collier', '.\\n', 'Dans', ' ', 'mon', ' ', 'empressement', ' ', 'à', ' ', 'lui', ' ', 'faire', ' ', 'plaisir', ', ', 'je', ' ', 'voulus', ' ', 'lui', ' ', 'passer', ' ', 'le', ' ', 'collier', ' ', 'de', ' ', 'force', ', ', 'mais', ' ', 'elle', ' ', 'me', ' ', 'repoussa', ' ', 'du', ' ', 'plat', ' ', 'de', ' ', 'la', ' ', 'main', '. ', 'La', ' ', 'colère', ' ', 'me', ' ', 'prit', ', ', 'je', ' ', 'la', ' ', 'mordis', ' ', 'au', ' ', 'travers', ' ', 'de', ' ', 'sa', ' ', 'robe', ', ', 'et', ' ', 'elle', ' ', 'ne', ' ', 'put', ' ', 'me', ' ', 'faire', ' ', 'lâcher', ' ', 'prise', ' ', 'qu', '’', 'en', ' ', 'me', ' ', 'tapant', ' ', 'sur', ' ', 'la', ' ', 'tête', '. ', 'Je', ' ', 'finis', ' ', 'par', ' ', 'tomber', ' ', 'sur', ' ', 'l', '’', 'herbe', ', ', 'à', ' ', 'demi', ' ', 'assommé', '. ', 'Nous', ' ', 'avions', ' ', 'bien', ' ', 'mal', ', ', 'tous', ' ', 'les', ' ', 'deux', '. ', 'Finalement', ', ', 'mademoiselle', ' ', 'Léonie', ' ', 'demanda', ' ', 'à', ' ', 'voir', ' ', 'mon', ' ', 'couteau', ' ', 'et', ' ', 'nous', ' ', 'passâmes', ' ', 'la', ' ', 'fin', ' ', 'de', ' ', 'sa', ' ', 'visite', ' ', 'à', ' ', 'agrandir', ' ', 'le', ' ', 'trou', ' ', 'dans', ' ', 'le', ' ', 'mur', ' ', 'de', ' ', 'gauche', '.\\n', 'Je', ' ', 'me', ' ', 'promis', ' ', 'ce', ' ', 'soir', '-', 'là', ' ', 'que', ' ', 'je', ' ', 'deviendrais', ' ', 'très', ' ', 'riche', ' ', 'et', ' ', 'que', ' ', 'j', '’', 'achèterais', ' ', 'un', ' ', 'collier', ' ', 'de', ' ', 'perles', ' ', 'à', ' ', 'mademoiselle', ' ', 'Léonie', '. ', 'Puis', ' ', 'je', ' ', 'renfilai', ' ', 'les', ' ', 'boutons', ' ', 'pour', ' ', 'en', ' ', 'faire', ' ', 'un', ' ', 'nouveau', ' ', 'collier', ' ', 'que', ' ', 'j', '’', 'offris', ' ', 'à', ' ', 'La', ' ', 'Bouillie', ' ', 'le', ' ', 'lendemain', ' ', 'en', ' ', 'le', ' ', 'passant', ' ', 'par', ' ', 'le', ' ', 'guichet', '.\\n- ', 'Nom', ' ', 'd', '’', 'unch', ' ! ', 's', '’', 'écria', '-', 't', '-', 'elle', '. ', 'T', '’', 'as', ' ', 'grinchi', ' ', 'pour', ' ', 'mézigue', '* ? (* ', 'T', '’', 'as', ' ', 'volé', ' ', 'pour', ' ', 'moi', ' ?)\\n', 'La', ' ', 'Bouillie', ' ', 'le', ' ', 'mit', ' ', 'tout', ' ', 'de', ' ', 'suite', ' ', 'à', ' ', 'son', ' ', 'cou', ' ', 'en', ' ', 'le', ' ', 'cachant', ' ', 'sous', ' ', 'son', ' ', 'petit', ' ', 'foulard', '. ', 'J', '’', 'étais', ' ', 'fier', ' ', 'd', '’', 'avoir', ' ', 'su', ' ', 'faire', ' ', 'plaisir', ' ', 'à', ' ', 'une', ' ', 'dame', ', ', 'mais', ' ', 'un', ' ', 'peu', ' ', 'triste', ' ', 'quand', ' ', 'même', '. ', 'Bien', ' ', 'que', ' ', 'je', ' ', 'n', '’', 'aie', ' ', 'pas', ' ', 'exprimé', ' ', 'clairement', ' ', 'mes', ' ', 'sentiments', ' ', 'au', ' ', 'sujet', ' ', 'de', ' ', 'La', ' ', 'Bouillie', ' ', 'et', ' ', 'de', ' ', 'mademoiselle', ' ', 'Léonie', ', ', 'je', ' ', 'pense', ' ', 'qu', '’', 'on', ' ', 'voit', ' ', 'où', ' ', 'vont', ' ', 'mes', ' ', 'préférences', ', ', 'comme', ' ', 'disait', ' ', 'le', ' ', 'vampire', ' ', 'en', ' ', 'repoussant', ' ', 'le', ' ', 'rôti', ' ', 'de', ' ', 'bœuf', ' ', 'pour', ' ', 's', '’', 'attaquer', ' ', 'à', ' ', 'sa', ' ', 'voisine', ' ', 'de', ' ', 'table', '.\\n', 'Je', ' ', 'revis', ' ', 'quelquefois', ' ', 'Léonie', ' ', 'pendant', ' ', 'la', ' ', 'belle', ' ', 'saison', '. ', 'Mais', ' ', 'dès', ' ', 'le', ' ', 'mois', ' ', 'd', '’', 'octobre', ', ', 'et', ' ', 'comme', ' ', 'tous', ' ', 'les', ' ', 'ans', ', ', 'les', ' ', 'Bonnechose', ' ', 'partirent', ' ', 'vivre', ' ', 'dans', ' ', 'leur', ' ', 'hôtel', ' ', 'particulier', ' ', 'au', ' ', 'numéro', ' ', '7', ' ', 'de', ' ', 'la', ' ', 'rue', ' ', 'de', ' ', 'la', ' ', 'Tour', '-', 'des', '-', 'Dames', ' ', 'à', ' ', 'Paris', '. ', 'Avant', ' ', 'de', ' ', 'me', ' ', 'quitter', ', ', 'Léonie', ' ', 'me', ' ', 'décrivit', ' ', 'toutes', ' ', 'les', ' ', 'fêtes', ' ', 'qu', '’', 'on', ' ', 'y', ' ', 'donnait', ', ', 'les', ' ', 'musiciens', ' ', 'sur', ' ', 'l', '’', 'estrade', ', ', 'et', ' ', 'les', ' ', 'valseurs', ' ', 'que', ' ', 'multipliaient', ' ', 'les', ' ', 'miroirs', ' ', 'dorés', ', ', 'les', ' ', 'cristaux', ', ', 'l', '’', 'argenterie', ', ', 'et', ' ', 'les', ' ', 'rivières', ' ', 'de', ' ', 'diamants', ' ', 'que', ' ', 'mille', ' ', 'bougies', ' ', 'faisaient', ' ', 'scintiller', ', ', 'et', ' ', 'le', ' ', 'parfum', ' ', 'de', ' ', 'mille', ' ', 'bouquets', ' ', 'jaillissant', ' ', 'de', ' ', 'vases', ' ', 'chinois', ', ', 'et', ' ', 'je', ' ', 'n', '’', 'en', ' ', 'crus', ' ', 'pas', ' ', 'la', ' ', 'moitié', '.\\n', '']\n"
     ]
    }
   ],
   "source": [
    "texte = open(\"chap1et2.txt\",\"r\",encoding=\"utf-8\").read() # méthode d'ouverture à éviter pour un texte trop long !\n",
    "\n",
    "# Pour conserver tous les caractères de ponctuation et d'espacement,\n",
    "# on ajoute des caractères très reconnaissables sur lesquels on va découper le texte\n",
    "# on obtiendra ainsi la liste des mots + des espaces et des ponctuations !\n",
    "\n",
    "texte_remplace = re.sub(\"(\\W+)\",ajoute_pour_decoupage,texte)\n",
    "#print(texte_remplace)\n",
    "\n",
    "mots_ponc = re.split(\"\\$\\$\\$\",texte_remplace)\n",
    "\n",
    "print(mots_ponc) #liste de mots, d'espaces et de ponctuations du texte\n",
    "\n",
    "#print(\"\".join(mots_ponc)) # reconstituer le texte d'origine"
   ]
  },
  {
   "cell_type": "markdown",
   "metadata": {},
   "source": [
    "3. **Bonus : utiliser les regEx pour récupérer des annotations dans un fichier balisé**\n",
    "    - ouvrir le fichier balisé créé à l'exercice prédécent et recupérer son contenu ;\n",
    "    - grâce à une expression régulière, retrouver toutes les séquences du type `<catégorie>mot du lexique</catégorie>` ;\n",
    "    - à partir des séquences retrouvées, extraire les catégories et les termes du lexique pour constituer un dictionnaire de la forme `{\"categorie\":[\"liste de termes appartenant à cette catégorie\"}` ;\n",
    "    - afficher ce dictionnaire par ordre alphabétique des clés (càd par ordre alphabétique des catégories) ;\n",
    "    - afficher ce dictionnaire par ordre décroissant du nombre de termes associés à une catégorie (càd d'abord la catégorie qui a le plus de termes)"
   ]
  },
  {
   "cell_type": "code",
   "execution_count": null,
   "metadata": {},
   "outputs": [],
   "source": []
  },
  {
   "cell_type": "code",
   "execution_count": null,
   "metadata": {},
   "outputs": [],
   "source": []
  }
 ],
 "metadata": {
  "kernelspec": {
   "display_name": "Python 3",
   "language": "python",
   "name": "python3"
  },
  "language_info": {
   "codemirror_mode": {
    "name": "ipython",
    "version": 3
   },
   "file_extension": ".py",
   "mimetype": "text/x-python",
   "name": "python",
   "nbconvert_exporter": "python",
   "pygments_lexer": "ipython3",
   "version": "3.6.8"
  }
 },
 "nbformat": 4,
 "nbformat_minor": 2
}
