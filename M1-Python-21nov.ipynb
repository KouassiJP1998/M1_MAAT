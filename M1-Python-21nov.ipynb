{
 "cells": [
  {
   "cell_type": "markdown",
   "metadata": {},
   "source": [
    "# 3LTA710T - Programmation et algorithmique 1\n",
    "\n",
    "Au programme :\n",
    "- questions sur le cours du 15/11\n",
    "- rappels sur les fonctions\n",
    "- les expressions régulières\n",
    "- si on a le temps, récupérer des données depuis le Web"
   ]
  },
  {
   "cell_type": "markdown",
   "metadata": {},
   "source": [
    "## Des questions ?"
   ]
  },
  {
   "cell_type": "code",
   "execution_count": null,
   "metadata": {},
   "outputs": [],
   "source": []
  },
  {
   "cell_type": "markdown",
   "metadata": {},
   "source": [
    "## Les fonctions\n",
    "\n",
    "Bien faire attention à ce que vous donnez en argument à vos fonctions ! Donnez **toutes les variables** en argument, càd tous les éléments dont **vous** choisissez la valeur.\n",
    "\n",
    "Exemple avec une fonction qui utilise le signe modulo % :\n",
    "\"L’opérateur % (modulo) produit le reste de la division entière du premier argument par le second.\" (cf. https://docs.python.org/fr/3.6/reference/expressions.html#binary-arithmetic-operations)"
   ]
  },
  {
   "cell_type": "code",
   "execution_count": null,
   "metadata": {},
   "outputs": [],
   "source": [
    "def fonction_simple(nombre):\n",
    "    \"\"\"\n",
    "    Entrée : un nombre\n",
    "    Sortie : \n",
    "    - si le nombre est pair, la moitié du nombre\n",
    "    - si le nombre est impair, le double du nombre\n",
    "    \"\"\"\n",
    "    \n",
    "    if nombre%2 == 0:\n",
    "        #return nombre/2\n",
    "        resultat = nombre/2\n",
    "    else:\n",
    "        #return nombre*2\n",
    "        resultat = nombre*2\n",
    "        \n",
    "    return resultat\n",
    "\n",
    "print(fonction_simple(2))\n",
    "print(fonction_simple(3))"
   ]
  },
  {
   "cell_type": "code",
   "execution_count": null,
   "metadata": {},
   "outputs": [],
   "source": [
    "def fonction_avec_default(nombre,multiplicateur=2):\n",
    "    \"\"\"\n",
    "    Entrée :\n",
    "    -  un nombre\n",
    "    - facultatif : un multiplicateur (valeur par défaut = 2)\n",
    "    Sortie :\n",
    "    - si le nombre est un multiple du multiplicateur, nombre/multiplicateur\n",
    "    - sinon, nombre*multiplicateur\n",
    "    \"\"\"\n",
    "    \n",
    "    if nombre%multiplicateur == 0:\n",
    "        #return nombre/multiplicateur\n",
    "        resultat = nombre/multiplicateur\n",
    "        \n",
    "    else:\n",
    "        #return nombre*multiplicateur\n",
    "        resultat = nombre*multiplicateur\n",
    "        \n",
    "    return resultat\n",
    "        \n",
    "print(fonction_avec_default(3))\n",
    "print(fonction_avec_default(3,3))\n",
    "print(fonction_avec_default(9,3))"
   ]
  },
  {
   "cell_type": "markdown",
   "metadata": {},
   "source": [
    "## Les expressions régulières\n",
    "\n",
    "Voir la doc : https://docs.python.org/fr/3/library/re.html\n",
    "\n",
    "Quelques opérations utiles :\n",
    "- `re.compile()` : pour compiler et enregistrer un motif\n",
    "- `re.match()` : cherche une correspondance au début de la chaîne\n",
    "- `re.search()` : chercher la première correspondance\n",
    "- `re.finditer()` : itérateur qui chercher toutes les correspondances\n",
    "- `re.sub()` : pour remplacer\n",
    "- `re.split()` : pour découper\n",
    "- `match.group()` : pour appeler les séquences mémorisées"
   ]
  },
  {
   "cell_type": "code",
   "execution_count": null,
   "metadata": {},
   "outputs": [],
   "source": [
    "import re"
   ]
  },
  {
   "cell_type": "markdown",
   "metadata": {},
   "source": [
    "##### Différence entre `re.search` et `re.match`"
   ]
  },
  {
   "cell_type": "code",
   "execution_count": null,
   "metadata": {},
   "outputs": [],
   "source": [
    "texte = \"Pierre 123 %*$ ?.\"\n",
    "\n",
    "m = re.search(\"\\d+\",texte)\n",
    "print(m,\"\\n\",m.group(0),m.start(0),m.end(0),m.span(0))\n",
    "\n",
    "m2 = re.match(\"\\d+\",texte)\n",
    "print(m2,\"\\n\")"
   ]
  },
  {
   "cell_type": "code",
   "execution_count": null,
   "metadata": {},
   "outputs": [],
   "source": [
    "m2 = re.match(\"\\d+\",texte)\n",
    "print(m2,\"\\n\")\n",
    "#print(m2.group(0))\n",
    "#print(m2.start(0))\n",
    "#print(m2.end(0))\n",
    "#print(m2.span(0))"
   ]
  },
  {
   "cell_type": "markdown",
   "metadata": {},
   "source": [
    "Des idées pour faire le tri entre les cas où une correspondance est trouvée et ceux où il n'y a pas de correspondance ?"
   ]
  },
  {
   "cell_type": "code",
   "execution_count": null,
   "metadata": {},
   "outputs": [],
   "source": []
  },
  {
   "cell_type": "code",
   "execution_count": null,
   "metadata": {},
   "outputs": [],
   "source": []
  },
  {
   "cell_type": "markdown",
   "metadata": {},
   "source": [
    "##### Utilisation de `re.finditer` ; différence avec `re.search` et `re.match`"
   ]
  },
  {
   "cell_type": "code",
   "execution_count": null,
   "metadata": {},
   "outputs": [],
   "source": [
    "contacts_M1 = open(\"./etudiants_M1.csv\",\"r\",encoding=\"utf-8\").read() # ouverture et lecture du fichier\n",
    "\n",
    "regEx = re.compile(\"\\w+\\.?\\w+@\\w+\\.[a-z]+\") # constitution de la regEx"
   ]
  },
  {
   "cell_type": "code",
   "execution_count": null,
   "metadata": {},
   "outputs": [],
   "source": [
    "m = re.match(regEx,contacts_M1)\n",
    "\n",
    "if m :\n",
    "    print(m.group(0))"
   ]
  },
  {
   "cell_type": "code",
   "execution_count": null,
   "metadata": {},
   "outputs": [],
   "source": [
    "m = re.search(regEx,contacts_M1)\n",
    "\n",
    "if m :\n",
    "    print(m.group(0))"
   ]
  },
  {
   "cell_type": "code",
   "execution_count": null,
   "metadata": {},
   "outputs": [],
   "source": [
    "for m in re.finditer(regEx,contacts_M1):\n",
    "    print(m,\"\\n\",m.group(0))"
   ]
  },
  {
   "cell_type": "markdown",
   "metadata": {},
   "source": [
    "##### Utilisation des groupes `m.group()`\n",
    "\n",
    "Si aucun parenthésage n'a été effectué au sein de la regEx, utiliser `m.group(0)` permettra d'avoir accès à la chaîne de caractères reconnues.\n",
    "\n",
    "Si un parenthésage a été effectué, il faut utiliser la position de l'élément entre parenthèses pour l'appeler (dans le cas où il a bien été reconnu)."
   ]
  },
  {
   "cell_type": "code",
   "execution_count": null,
   "metadata": {},
   "outputs": [],
   "source": [
    "texte = \"M. Dupont et Mme. Durand ne sont pas venus hier. Mlle. Perrin était là, en revanche. Signé M.\"\n",
    "\n",
    "regEx_civilite = re.compile(\"(Mm?l?l?e?)\\. ([A-Z])\")\n",
    "\n",
    "for m in re.finditer(regEx_civilite,texte):\n",
    "    print(m.group(1),\"***\",m.group(2))"
   ]
  },
  {
   "cell_type": "code",
   "execution_count": null,
   "metadata": {},
   "outputs": [],
   "source": [
    "texte = \"Le 14 avril 1995 et le 10 mai 1992. Le 25 septembre 19991.\"\n",
    "\n",
    "regEx = re.compile(\"(\\d+) (avril|mai) (\\d+)\")\n",
    "\n",
    "for m in re.finditer(regEx, texte):\n",
    "    print(m.group(1),m.group(2),m.group(3))\n",
    "    #print(m.group(0))"
   ]
  },
  {
   "cell_type": "code",
   "execution_count": null,
   "metadata": {},
   "outputs": [],
   "source": []
  },
  {
   "cell_type": "markdown",
   "metadata": {},
   "source": [
    "##### Utilisation de `re.sub`\n",
    "\n",
    "- Remplacer une chaîne de caractère (exprimée par une regEx) par une autre chaîne de caractère"
   ]
  },
  {
   "cell_type": "code",
   "execution_count": null,
   "metadata": {},
   "outputs": [],
   "source": [
    "texte = \"La petite fleur aime le soleil.\"\n",
    "\n",
    "nouveau_texte = re.sub(\"a\",\"***\",texte)\n",
    "print(nouveau_texte)\n",
    "\n",
    "nouveau_texte2 = re.sub(\"[aeiuo]\",\"V\",texte)\n",
    "print(nouveau_texte2)\n",
    "\n",
    "nouveau_texte3 = re.sub(\"[aeiuo]{2,}\",\"V\",texte)\n",
    "print(nouveau_texte3)"
   ]
  },
  {
   "cell_type": "markdown",
   "metadata": {},
   "source": [
    "- Remplacer à l'aide d'une fonction"
   ]
  },
  {
   "cell_type": "code",
   "execution_count": null,
   "metadata": {},
   "outputs": [],
   "source": [
    "def remplace_civilite(m):\n",
    "    \"\"\"\n",
    "    Permet de remplacer les abréviations de civilités par leur nom complet.\n",
    "    \"\"\"\n",
    "    \n",
    "    civilite = str()\n",
    "    \n",
    "    if m.group(1) == \"M\":\n",
    "        civilite = \"Monsieur\"\n",
    "    elif m.group(1) == \"Mme\":\n",
    "        civilite = \"Madame\"\n",
    "    elif m.group(1) == \"Mlle\":\n",
    "        civilite = \"Mademoiselle\"\n",
    "        \n",
    "    return civilite+\" \"+m.group(2)"
   ]
  },
  {
   "cell_type": "code",
   "execution_count": null,
   "metadata": {},
   "outputs": [],
   "source": [
    "texte = \"M. Dupont et Mme. Durand ne sont pas venus hier. Mlle. Perrin était là, en revanche. Signé M.\"\n",
    "\n",
    "regEx_civilite = re.compile(\"(Mm?l?l?e?)\\. ([A-Z])\")\n",
    "\n",
    "for m in re.finditer(regEx_civilite,texte):\n",
    "    print(m.group(1),m.group(2))\n",
    "    \n",
    "nouv_texte = re.sub(regEx_civilite,remplace_civilite,texte)\n",
    "print(nouv_texte)"
   ]
  },
  {
   "cell_type": "markdown",
   "metadata": {},
   "source": [
    "##### Utilisation de `re.split`\n",
    "\n",
    "Très pratique pour découper un texte en mots !!"
   ]
  },
  {
   "cell_type": "code",
   "execution_count": null,
   "metadata": {},
   "outputs": [],
   "source": [
    "texte = \"Hier, il a fait vraiment beau ! Est-ce que tu penses que ce sera pareil aujourd'hui ?\"\n",
    "\n",
    "regEx_pasMot = re.compile(\"\\W+\")\n",
    "\n",
    "mots = re.split(regEx_pasMot,texte)\n",
    "print(mots)\n",
    "\n",
    "mots2 = regEx_pasMot.split(texte)\n",
    "print(mots2)"
   ]
  },
  {
   "cell_type": "markdown",
   "metadata": {},
   "source": [
    "## Module `collections` : `defaultdict` et `Counter`\n",
    "\n",
    "\n",
    "- `defaultdict` : permet de donner une valeur par défaut à une clé. Très pratique quand on remplit automatiquement un dictionnaire qui a des listes pour valeurs !\n",
    "\n",
    "- `Counter` : compte automatiquement le nombre d'éléments dans une séquence. Très pratique pour avoir la fréquence des mots d'un texte !"
   ]
  },
  {
   "cell_type": "code",
   "execution_count": null,
   "metadata": {},
   "outputs": [],
   "source": [
    "from collections import defaultdict, Counter"
   ]
  },
  {
   "cell_type": "code",
   "execution_count": null,
   "metadata": {},
   "outputs": [],
   "source": [
    "dico = {\n",
    "    \"pair\":list(),\n",
    "    \"impair\":list(),\n",
    "}\n",
    "\n",
    "for nombre in range(0,100):\n",
    "    if nombre%2 == 0:\n",
    "        dico[\"pair\"].append(nombre)\n",
    "    else:\n",
    "        dico[\"impair\"].append(nombre)\n",
    "\n",
    "print(dico[\"pair\"])"
   ]
  },
  {
   "cell_type": "code",
   "execution_count": null,
   "metadata": {},
   "outputs": [],
   "source": [
    "dico2 = defaultdict(lambda :list())\n",
    "\n",
    "for nombre in range(0,100):\n",
    "    if nombre%2 == 0:\n",
    "        dico2[\"pair\"].append(nombre)\n",
    "    else :\n",
    "        dico2[\"impair\"].append(nombre)\n",
    "        \n",
    "print(dico2[\"pair\"])"
   ]
  },
  {
   "cell_type": "code",
   "execution_count": null,
   "metadata": {},
   "outputs": [],
   "source": [
    "# Compter les caractères\n",
    "\n",
    "texte = \"La la la li li li lu lu lu po po po mu mu mu\"\n",
    "compteur_caracteres_freq = Counter(texte)\n",
    "print(compteur_caracteres_freq)\n",
    "print(compteur_caracteres_freq[\"a\"])"
   ]
  },
  {
   "cell_type": "code",
   "execution_count": null,
   "metadata": {},
   "outputs": [],
   "source": [
    "for caractere in sorted(compteur_caracteres_freq, key=lambda x:compteur_caracteres_freq[x], reverse=True):\n",
    "    print(caractere, compteur_caracteres_freq[caractere])"
   ]
  },
  {
   "cell_type": "code",
   "execution_count": null,
   "metadata": {},
   "outputs": [],
   "source": [
    "# Compter les mots\n",
    "\n",
    "texte = \"La la la li li li lu lu lu po po po mu mu mu\"\n",
    "mots = texte.split(\" \")\n",
    "compteur_mot_freq = Counter(mots)\n",
    "\n",
    "compteur2 = Counter([m.lower() for m in mots])\n",
    "print(compteur_mot_freq)\n",
    "print(compteur_mot_freq[\"la\"])\n",
    "print(compteur2)"
   ]
  },
  {
   "cell_type": "code",
   "execution_count": null,
   "metadata": {},
   "outputs": [],
   "source": []
  },
  {
   "cell_type": "markdown",
   "metadata": {},
   "source": [
    "# Travail avec ce qui a été vu en cours :\n",
    "\n",
    "- trouver le vocabulaire d'un texte (découper un texte en mots, compter les fréquences)\n",
    "- appliquer un lexique sur un texte et faire une sortie balisée (dans un texte, retrouver les termes d'un lexique et faire une sortie où les éléments du lexique sont balisés)\n",
    "- récupérer les annotations balisées d'un corpus (récupérer le type de la balise et les éléments balisés)"
   ]
  },
  {
   "cell_type": "code",
   "execution_count": null,
   "metadata": {},
   "outputs": [],
   "source": []
  }
 ],
 "metadata": {
  "kernelspec": {
   "display_name": "Python 3",
   "language": "python",
   "name": "python3"
  },
  "language_info": {
   "codemirror_mode": {
    "name": "ipython",
    "version": 3
   },
   "file_extension": ".py",
   "mimetype": "text/x-python",
   "name": "python",
   "nbconvert_exporter": "python",
   "pygments_lexer": "ipython3",
   "version": "3.6.8"
  }
 },
 "nbformat": 4,
 "nbformat_minor": 2
}
