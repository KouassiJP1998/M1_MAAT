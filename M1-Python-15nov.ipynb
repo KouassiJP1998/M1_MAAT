{
 "cells": [
  {
   "cell_type": "markdown",
   "metadata": {},
   "source": [
    "# 3LTA710T - Programmation et algorithmique 1\n",
    "\n",
    "**Au programme pour le 15/11 et le 21/11 :**\n",
    "1. Rappels : variables, structures de données, gestion de fichiers\n",
    "2. Les expressions régulières\n",
    "3. Aspirer du contenu depuis le Web"
   ]
  },
  {
   "cell_type": "markdown",
   "metadata": {},
   "source": [
    "## Astuces et conseils\n",
    "\n",
    "- **Attention** à la façon dont vous nommez les variables et les fonctions que vous créez. Si vous utilisez des noms déjà existants pour des fonctions, variables etc. natives de Python, vous risquez d'avoir des problèmes !<br/> Par exemple, si vous appelez une variable de nombre entier \"int\", vous ne pourrez plus utiliser la fonction `int()` pour convertir un nombre décimal en nombre entier !<br/> cf. les fonctions natives de Python https://docs.python.org/fr/3.5/library/functions.html"
   ]
  },
  {
   "cell_type": "code",
   "execution_count": null,
   "metadata": {},
   "outputs": [],
   "source": [
    "nb = 5.66\n",
    "print(int(nb))\n",
    "\n",
    "try :\n",
    "    int = 3\n",
    "    print(int(nb))\n",
    "except TypeError :\n",
    "    print(\"Ne pas utiliser 'int' pour nommer une variable !! Maintenant, relancez votre kernel !!\")\n",
    "    "
   ]
  },
  {
   "cell_type": "markdown",
   "metadata": {},
   "source": [
    "- Jouer avec les options de la commande `print()` pour rendre vos affichages plus lisibles\n",
    "    - par défaut, `print()` utilise des espaces pour séparer les éléments. Vous pouvez changer ça avec l'option `sep`\n",
    "    - par défaut, `print()` utilise un retour à la ligne en fin de ligne. Vous pouvez changer ça avec l'option `end`"
   ]
  },
  {
   "cell_type": "code",
   "execution_count": 1,
   "metadata": {},
   "outputs": [
    {
     "name": "stdout",
     "output_type": "stream",
     "text": [
      "chocolat vanille pistache\n",
      "chocolat---vanille---pistache\n",
      "chocolat\n",
      "vanille\n",
      "pistache\n",
      "chocolat***vanille***pistache***"
     ]
    }
   ],
   "source": [
    "mot1 = \"chocolat\"\n",
    "mot2 = \"vanille\"\n",
    "mot3 = \"pistache\"\n",
    "print(mot1,mot2,mot3)\n",
    "print(mot1,mot2,mot3,sep=\"---\")\n",
    "print(mot1)\n",
    "print(mot2)\n",
    "print(mot3)\n",
    "print(mot1,end=\"***\")\n",
    "print(mot2,end=\"***\")\n",
    "print(mot3,end=\"***\")"
   ]
  },
  {
   "cell_type": "markdown",
   "metadata": {},
   "source": [
    "- lorsque vous instancier une variable vide, vous pouvez utiliser les fonctions de types\n",
    "- pour vérifier le type d'une variable, pensez également à utiliser la fonction `type()`"
   ]
  },
  {
   "cell_type": "code",
   "execution_count": 2,
   "metadata": {},
   "outputs": [
    {
     "name": "stdout",
     "output_type": "stream",
     "text": [
      " <class 'str'>\n",
      "0 <class 'int'>\n",
      "0.0 <class 'float'>\n",
      "[] <class 'list'>\n",
      "set() <class 'set'>\n",
      "{} <class 'dict'>\n"
     ]
    }
   ],
   "source": [
    "chaine = str()\n",
    "print(chaine, type(chaine))\n",
    "\n",
    "entier = int()\n",
    "print(entier, type(entier))\n",
    "\n",
    "decimal = float()\n",
    "print(decimal, type(decimal))\n",
    "\n",
    "liste = list()\n",
    "print(liste, type(liste))\n",
    "\n",
    "ensemble = set()\n",
    "print(ensemble, type(ensemble))\n",
    "\n",
    "dico = dict()\n",
    "print(dico, type(dico))"
   ]
  },
  {
   "cell_type": "markdown",
   "metadata": {},
   "source": [
    "## Rappels\n",
    "\n",
    "<br/>\n",
    "\n",
    "**De manière générale, pensez toujours à consulter la documentation Python : https://docs.python.org/fr/3/.**\n",
    "\n",
    "### Les types de variables en Python\n",
    "\n",
    "- chaînes de caractères (type `str` ; fonction `str()`), marquées par les guillemets (simples, doubles, triples)\n",
    "- nombres décimaux (type `float` ; fonction `float()`)\n",
    "- nomes entiers (type `int` ; fonction `int()`)\n",
    "\n",
    "Selon le type de variable, plusieurs opérations sont possibles.\n",
    "\n",
    "*N.B.: il existe d'autres types de variables, cf. la documentation https://docs.python.org/fr/3.6/library/stdtypes.html)*\n",
    "\n",
    "#### Chaînes de caractères (cf. https://docs.python.org/fr/3.6/library/string.html)\n"
   ]
  },
  {
   "cell_type": "code",
   "execution_count": 3,
   "metadata": {},
   "outputs": [
    {
     "name": "stdout",
     "output_type": "stream",
     "text": [
      "abcdef\n",
      "abc**def\n",
      "a\n",
      "c\n",
      "cdef\n",
      "['Loulou', 'aime', 'le', 'chocolat.']\n"
     ]
    }
   ],
   "source": [
    "chaine = \"abc\"\n",
    "chaine2 = \"def\"\n",
    "\n",
    "# Concaténation\n",
    "concatenation = chaine+chaine2\n",
    "concatenation2 = chaine+\"**\"+chaine2 # on peut ajouter directement des chaînes de caractères\n",
    "\n",
    "print(concatenation)\n",
    "print(concatenation2)\n",
    "\n",
    "# Appel d'un élément par son rang (son indice)\n",
    "print(chaine[0]) # le premier élément\n",
    "print(chaine[-1]) # le dernier élément\n",
    "print(concatenation[2:]) # une portion du 3e élément à la fin\n",
    "\n",
    "# Scinder une chaîne\n",
    "chaine3 = \"Loulou aime le chocolat.\"\n",
    "print(chaine3.split(\" \")) # découpage sur les espaces (le résultat est une liste)"
   ]
  },
  {
   "cell_type": "code",
   "execution_count": 4,
   "metadata": {},
   "outputs": [
    {
     "name": "stdout",
     "output_type": "stream",
     "text": [
      "3\n",
      "PRÉNOM\n",
      "prénom\n",
      "blOblOblO\n"
     ]
    }
   ],
   "source": [
    "# Longueur de la chaîne\n",
    "longueur = len(chaine)\n",
    "print(longueur)\n",
    "\n",
    "# Tout mettre en majuscules\n",
    "ch = \"prénom\"\n",
    "ch_maj = ch.upper()\n",
    "print(ch_maj)\n",
    "\n",
    "# Tout mettre en minuscules\n",
    "ch2 = \"PrénoM\"\n",
    "ch_min = ch.lower()\n",
    "print(ch_min)\n",
    "\n",
    "# Remplacer un caractère\n",
    "ch3 = \"blablabla\"\n",
    "ch3_nouv = ch3.replace(\"a\",\"O\")\n",
    "print(ch3_nouv)\n",
    "\n",
    "# N.B.: pour remplacer un caractère, on ne peut pas faire ch[x]=\"y\" (cf. plus bas)"
   ]
  },
  {
   "cell_type": "markdown",
   "metadata": {},
   "source": [
    "#### Nombres (cf. https://docs.python.org/fr/3.5/library/stdtypes.html#typesnumeric)\n",
    "\n",
    "*N.B.: il existe d'autres types numériques que `int` et `float`, cf. la doc.*"
   ]
  },
  {
   "cell_type": "code",
   "execution_count": 5,
   "metadata": {},
   "outputs": [
    {
     "name": "stdout",
     "output_type": "stream",
     "text": [
      "54 <class 'int'>\n",
      "36 <class 'int'>\n",
      "405 <class 'int'>\n",
      "5.0 <class 'float'>\n",
      "Conversion en entier : 3 - 3\n",
      "un nombre n'a pas de longueur !\n",
      "115 est un <class 'str'> , pas un nombre !\n"
     ]
    }
   ],
   "source": [
    "entier_1 = 45\n",
    "entier_2 = 9\n",
    "\n",
    "somme = entier_1+entier_2\n",
    "soustraction = entier_1-entier_2\n",
    "produit = entier_1*entier_2\n",
    "division = entier_1/entier_2\n",
    "\n",
    "print(somme,type(somme))\n",
    "print(soustraction,type(soustraction))\n",
    "print(produit,type(produit))\n",
    "print(division,type(division))\n",
    "print(\"Conversion en entier :\",int(3.6666),\"-\",int(\"3\"))\n",
    "\n",
    "# Longueur d'un nombre ?\n",
    "try :\n",
    "    len(entier_1)\n",
    "except TypeError:\n",
    "    print(\"un nombre n'a pas de longueur !\")\n",
    "      \n",
    "# ATTENTION ! Les nombres sont un type bien précis en Python\n",
    "# une chaîne de caractères qui représente des nombres reste une chaîne de caractères\n",
    "ent1 = \"1\"\n",
    "ent2 = \"15\"\n",
    "print(ent1+ent2, \"est un\",type(ent1+ent2),\", pas un nombre !\")\n",
    "\n",
    "#N.B.: les opérateurs \"-\", \"*\" et \"/\" ne sont pas compatibles avec les chaînes de caractères"
   ]
  },
  {
   "cell_type": "markdown",
   "metadata": {},
   "source": [
    "### Les structures de données\n",
    "\n",
    "cf. la documentation sur les structures de données : https://docs.python.org/fr/3.6/tutorial/datastructures.html\n",
    "\n",
    "- tuples (fonction `tuple()`), marqués par les parenthèses ()\n",
    "- listes (fonction `list()`), marquées par les crochets []\n",
    "- ensembles (fonction `set()`), marqués par des accolades {}\n",
    "- dictionnaires (fonction `dict()`), marqués par des accolades {} et comportent des clés et des valeurs (séparées par des \" : \")"
   ]
  },
  {
   "cell_type": "markdown",
   "metadata": {},
   "source": [
    "#### Les tuples (cf. https://docs.python.org/fr/3.6/tutorial/datastructures.html#tuples-and-sequences)"
   ]
  },
  {
   "cell_type": "code",
   "execution_count": 6,
   "metadata": {},
   "outputs": [
    {
     "name": "stdout",
     "output_type": "stream",
     "text": [
      "a---('b', 1, 2)---2\n",
      "a\n",
      "b\n",
      "1\n",
      "2\n",
      "('a', 'b', 1, 2, 1, 2, 5)\n",
      "('a', 'b', 'i')\n",
      "('a', 'b', 'g')\n",
      "('a', 'r', 't')\n",
      "('a', 'b')\n",
      "Bien essayé !\n",
      "Encore raté.\n"
     ]
    }
   ],
   "source": [
    "tup = ('a','b',1,2)\n",
    "tup2 = (1,2)\n",
    "\n",
    "# Appel d'un élément par son indice\n",
    "print(tup[0],tup[1:],tup2[-1],sep=\"---\")\n",
    "\n",
    "# Parcours de tuple\n",
    "for element in tup:\n",
    "    print(element)\n",
    "\n",
    "# Concaténation\n",
    "tup3 = tup+tup2\n",
    "tup3 += (5,) # Ajout d'un élément au tuple\n",
    "print(tup3)\n",
    "\n",
    "# Conversion en tuples\n",
    "ch = \"abi\"\n",
    "print(tuple(ch)) #tuple des caractères\n",
    "\n",
    "liste = [\"a\",\"b\",\"g\"]\n",
    "print(tuple(liste)) #tuple des éléments de la liste\n",
    "\n",
    "ensemble = {'a','r','t'}\n",
    "print(tuple(ensemble)) #tuple des éléments de l'ensemble\n",
    "\n",
    "dico = {\"a\":1,\"b\":2}\n",
    "print(tuple(dico)) #tuple des clés du dictionnaire\n",
    "\n",
    "# On ne peut pas remplacer un élément de tuple\n",
    "try:\n",
    "    tup.replace('a','c')\n",
    "except AttributeError:\n",
    "    print(\"Bien essayé !\")\n",
    "    \n",
    "try:\n",
    "    tup[0] = \"c\"\n",
    "except TypeError:\n",
    "    print(\"Encore raté.\")"
   ]
  },
  {
   "cell_type": "markdown",
   "metadata": {},
   "source": [
    "#### Les listes \n",
    "(cf. https://docs.python.org/fr/3.6/library/stdtypes.html#lists et https://docs.python.org/fr/3.6/tutorial/datastructures.html#more-on-lists)\n",
    "\n",
    "- marquées par des crochets []\n",
    "- ordonnées\n",
    "- modifiables à volonté"
   ]
  },
  {
   "cell_type": "code",
   "execution_count": 7,
   "metadata": {},
   "outputs": [
    {
     "name": "stdout",
     "output_type": "stream",
     "text": [
      "Cette liste comporte 5 éléments\n",
      "Le 1er : chou  ; les éléments à partir du 3e : ['topinambour', 'courgette', 'aubergine']  ; le dernier : aubergine\n",
      "***\n",
      "Parcours standard\n",
      "chou\n",
      "poireau\n",
      "topinambour\n",
      "courgette\n",
      "aubergine\n",
      "***\n",
      "Parcours sur liste triée\n",
      "aubergine\n",
      "chou\n",
      "courgette\n",
      "poireau\n",
      "topinambour\n",
      "***\n",
      "Tri définitif :\n",
      "Avant le tri : ['chou', 'poireau', 'topinambour', 'courgette', 'aubergine']\n",
      "Après le tri : ['aubergine', 'chou', 'courgette', 'poireau', 'topinambour']\n"
     ]
    }
   ],
   "source": [
    "liste = [\"chou\",\"poireau\",\"topinambour\",\"courgette\",\"aubergine\"]\n",
    "\n",
    "# Longueur d'une liste\n",
    "longueur = len(liste)\n",
    "print(\"Cette liste comporte\",longueur,\"éléments\")\n",
    "\n",
    "# Appeler un élément par son indice ou une portion\n",
    "print(\"Le 1er :\",liste[0],\" ; les éléments à partir du 3e :\",liste[2:],\" ; le dernier :\",liste[-1])\n",
    "print(\"***\")\n",
    "\n",
    "# Parcourir une liste\n",
    "print(\"Parcours standard\")\n",
    "for element in liste:\n",
    "    print(element)\n",
    "print(\"***\")\n",
    "\n",
    "# Parcourir une liste en la triant\n",
    "print(\"Parcours sur liste triée\")\n",
    "for element in sorted(liste):\n",
    "    print(element)\n",
    "print(\"***\")\n",
    "\n",
    "# Trier définitivement une liste\n",
    "print(\"Tri définitif :\")\n",
    "print(\"Avant le tri :\",liste)\n",
    "liste.sort()\n",
    "print(\"Après le tri :\",liste)\n"
   ]
  },
  {
   "cell_type": "markdown",
   "metadata": {},
   "source": [
    "Il existe plusieurs manières de parcourir une liste avec les indices :\n",
    "- utiliser `enumerate()` (plus simple et plus pratique)\n",
    "- compteur\n",
    "- fonction `range()` (cf. https://docs.python.org/fr/3/library/functions.html#func-range)"
   ]
  },
  {
   "cell_type": "code",
   "execution_count": 8,
   "metadata": {},
   "outputs": [
    {
     "name": "stdout",
     "output_type": "stream",
     "text": [
      "Parcours avec indices (enumerate())\n",
      "0 aubergine\n",
      "1 chou\n",
      "2 courgette\n",
      "3 poireau\n",
      "4 topinambour\n",
      "***\n",
      "Parcours avec indices (compteur)\n",
      "0 aubergine\n",
      "1 chou\n",
      "2 courgette\n",
      "3 poireau\n",
      "4 topinambour\n",
      "Parcours avec indices (range())\n",
      "0 aubergine\n",
      "1 chou\n",
      "2 courgette\n",
      "3 poireau\n",
      "4 topinambour\n",
      "Parcours d'une portion\n",
      "2 courgette\n",
      "3 poireau\n"
     ]
    }
   ],
   "source": [
    "# Parcourir une liste avec les indices\n",
    "print(\"Parcours avec indices (enumerate())\")\n",
    "for i,element in enumerate(liste):\n",
    "    print(i,element)\n",
    "print(\"***\")\n",
    "\n",
    "# Parcourir une liste avec les indices\n",
    "print(\"Parcours avec indices (compteur)\")\n",
    "i=0\n",
    "for element in liste:\n",
    "    print(i,element)\n",
    "    i+=1 # on incréente le compteur\n",
    "    \n",
    "# Parcourir une liste avec les indices\n",
    "# Cette méthode est pratique quand on veut parcourir une portion bien définie d'une liste\n",
    "print(\"Parcours avec indices (range())\")\n",
    "for i in range(0,len(liste)):\n",
    "    print(i,liste[i])\n",
    "    \n",
    "print(\"Parcours d'une portion\")\n",
    "for i in range(2,len(liste)-1):\n",
    "    print(i,liste[i])"
   ]
  },
  {
   "cell_type": "code",
   "execution_count": 9,
   "metadata": {},
   "outputs": [
    {
     "name": "stdout",
     "output_type": "stream",
     "text": [
      "['A', 'b', 'c', 'd', 'e', 'f']\n",
      "['A', 'c', 'e', 'f']\n",
      "['A', 'z', 'z', 'z', 'e', 'f']\n",
      "['A', 'u', 'u', 'u', 'z', 'e', 'f']\n",
      "C'est une chaîne de caractères, pas une liste !\n",
      "C'est un tuple, pas une liste !\n"
     ]
    }
   ],
   "source": [
    "# Modifier un élément précis de la liste ou une portion\n",
    "liste2 = [\"a\",\"b\",\"c\",\"d\",\"e\",\"f\"]\n",
    "liste2[0] = \"A\"\n",
    "print(liste2)\n",
    "\n",
    "liste2[1:4]=\"c\"\n",
    "print(liste2)\n",
    "\n",
    "liste2[1:2]=[\"z\",\"z\",\"z\"]\n",
    "print(liste2)\n",
    "\n",
    "liste2[1:3]=\"u\",\"u\",\"u\"\n",
    "print(liste2)\n",
    "\n",
    "# Pas possible pour une chaine de caractère !\n",
    "chaine4 = \"test\"\n",
    "try :\n",
    "    chaine4[0] = \"T\"\n",
    "except TypeError:\n",
    "    print(\"C'est une chaîne de caractères, pas une liste !\")\n",
    "    \n",
    "# Ni pour un tuple\n",
    "tup = ('a','b','c')\n",
    "try :\n",
    "    tup[0] = \"d\"\n",
    "except TypeError:\n",
    "    print(\"C'est un tuple, pas une liste !\")"
   ]
  },
  {
   "cell_type": "code",
   "execution_count": 10,
   "metadata": {},
   "outputs": [
    {
     "name": "stdout",
     "output_type": "stream",
     "text": [
      "Suppression de 'rat' : ['lion', 'fourmi', 'éléphant', 'corbeau']\n",
      "Autre tentative de suppression de 'rat' :\n",
      "L'élément n'est pas dans la liste !\n",
      "\n",
      "Pop du 1er élément : ['fourmi', 'éléphant', 'corbeau'] lion\n",
      "\n",
      "Append de 'chèvre' ['fourmi', 'éléphant', 'corbeau', 'chèvre']\n",
      "\n",
      "Extend d'une mini liste : ['fourmi', 'éléphant', 'corbeau', 'chèvre', 'rossignol', 'marmotte']\n",
      "\n",
      "Concaténation par +: ['aubergine', 'chou', 'courgette', 'poireau', 'topinambour', 'fourmi', 'éléphant', 'corbeau', 'chèvre', 'rossignol', 'marmotte']\n",
      "\n",
      "Extend : ['aubergine', 'chou', 'courgette', 'poireau', 'topinambour', 'fourmi', 'éléphant', 'corbeau', 'chèvre', 'rossignol', 'marmotte']\n",
      "Append de liste : ['a', 'b', ['cacao', 'beurre']]\n",
      "Ajout d'un élémenten 1ère position : ['souris', 'chat', 'chien']\n",
      "Ajout d'un élément en dernière position : ['souris', 'chat', 'chien', 'éléphant']\n"
     ]
    }
   ],
   "source": [
    "# Attention ! Ces opérations sont définitives, elles modifient directement la liste\n",
    "\n",
    "# Enlever un élément de la liste\n",
    "liste3 = [\"lion\",\"rat\",\"fourmi\",\"éléphant\",\"corbeau\"]\n",
    "\n",
    "liste3.remove(\"rat\")\n",
    "print(\"Suppression de 'rat' :\",liste3)\n",
    "print(\"Autre tentative de suppression de 'rat' :\")\n",
    "try :\n",
    "    liste3.remove(\"rat\")\n",
    "except ValueError:\n",
    "    print(\"L'élément n'est pas dans la liste !\",end=\"\\n\\n\")\n",
    "\n",
    "element_enleve = liste3.pop(0)\n",
    "print(\"Pop du 1er élément :\",liste3, element_enleve,end=\"\\n\\n\")\n",
    "\n",
    "# Ajouter des éléments dans une liste\n",
    "liste3.append(\"chèvre\")\n",
    "print(\"Append de 'chèvre'\",liste3,end=\"\\n\\n\")\n",
    "\n",
    "liste3.extend([\"rossignol\",\"marmotte\"])\n",
    "print(\"Extend d'une mini liste :\",liste3,end=\"\\n\\n\")\n",
    "\n",
    "# Concaténer des listes\n",
    "print(\"Concaténation par +:\",liste+liste3,end=\"\\n\\n\")\n",
    "\n",
    "#ou\n",
    "liste.extend(liste3)\n",
    "print(\"Extend :\", liste)\n",
    "\n",
    "\n",
    "# Attention\n",
    "# .append() avec une liste en argument vous donne une liste dans la liste\n",
    "li1 = [\"a\",\"b\"]\n",
    "li2 = [\"cacao\",\"beurre\"]\n",
    "li1.append(li2)\n",
    "print(\"Append de liste :\",li1)\n",
    "\n",
    "# Ajouter un élément à une position précise\n",
    "liste4 = [\"chat\",\"chien\"]\n",
    "liste4.insert(0,\"souris\")\n",
    "print(\"Ajout d'un élémenten 1ère position :\",liste4)\n",
    "liste4.insert(len(liste4),\"éléphant\") # équivaut à un .append()\n",
    "print(\"Ajout d'un élément en dernière position :\",liste4)"
   ]
  },
  {
   "cell_type": "code",
   "execution_count": 11,
   "metadata": {},
   "outputs": [
    {
     "name": "stdout",
     "output_type": "stream",
     "text": [
      "['m', 'a', 'i', 's', 'o', 'n']\n",
      "['maison', 'immeuble']\n",
      "[1, 2, 3, 4]\n",
      "['maison', 'chien', 'mairie']\n"
     ]
    }
   ],
   "source": [
    "# Convertir en liste\n",
    "\n",
    "ch = \"maison\"\n",
    "print(list(ch))\n",
    "\n",
    "tup = (\"maison\",\"immeuble\")\n",
    "print(list(tup))\n",
    "\n",
    "ensemble = {1,2,3,4}\n",
    "print(list(ensemble))\n",
    "\n",
    "dico = {\"maison\":\"bâtiment\",\"chien\":\"animal\",\"mairie\":\"bâtiment\"}\n",
    "print(list(dico)) # récupère uniquement les clés du dico"
   ]
  },
  {
   "cell_type": "markdown",
   "metadata": {},
   "source": [
    "##### Copier une liste\n",
    "\n",
    "Quand vous voulez faire une copie d'une liste en Python, il ne suffit pas d'assigner la liste à copier dans une nouvelle variable !"
   ]
  },
  {
   "cell_type": "code",
   "execution_count": 12,
   "metadata": {},
   "outputs": [
    {
     "name": "stdout",
     "output_type": "stream",
     "text": [
      "Liste initiale : ['tourte', 'pâté', 'saucisse']\n",
      "Tentative de copie : ['tourte', 'pâté', 'saucisse']\n",
      "Tentative de copie modifiée : ['tourte', 'pâté', 'saucisse', 'jambon']\n",
      "Liste initiale... modifiée aussi ! ['tourte', 'pâté', 'saucisse', 'jambon']\n",
      "***\n",
      "Liste initiale : ['tourte', 'pâté', 'saucisse', 'jambon']\n",
      "Nouvelle tentative de copie : ['tourte', 'pâté', 'saucisse', 'jambon']\n",
      "Nouvelle tentative modifiée : ['tourte', 'pâté', 'saucisse', 'jambon', 'salami', 'cervelas']\n",
      "Liste initiale... cette fois intacte : ['tourte', 'pâté', 'saucisse', 'jambon']\n"
     ]
    }
   ],
   "source": [
    "# ATTENTION : à ne pas faire\n",
    "liste_initiale = [\"tourte\",\"pâté\",\"saucisse\"]\n",
    "print(\"Liste initiale :\",liste_initiale)\n",
    "tentative_copie = liste_initiale\n",
    "print(\"Tentative de copie :\",tentative_copie)\n",
    "tentative_copie.append(\"jambon\")\n",
    "print(\"Tentative de copie modifiée :\",tentative_copie)\n",
    "print(\"Liste initiale... modifiée aussi !\",liste_initiale)\n",
    "print(\"***\")\n",
    "\n",
    "# Possibilité pour copier\n",
    "print(\"Liste initiale :\",liste_initiale)\n",
    "nouvelle_tentative = list(liste_initiale)\n",
    "print(\"Nouvelle tentative de copie :\",nouvelle_tentative)\n",
    "nouvelle_tentative.extend(['salami','cervelas'])\n",
    "print(\"Nouvelle tentative modifiée :\",nouvelle_tentative)\n",
    "print(\"Liste initiale... cette fois intacte :\",liste_initiale)"
   ]
  },
  {
   "cell_type": "markdown",
   "metadata": {},
   "source": [
    "### Les ensembles (cf. https://docs.python.org/fr/3.6/tutorial/datastructures.html#sets)\n",
    "\n",
    "- non ordonnés\n",
    "- opérations sur les ensembles\n",
    "- pratiques pour se débarrasser des doublons"
   ]
  },
  {
   "cell_type": "code",
   "execution_count": 13,
   "metadata": {},
   "outputs": [
    {
     "name": "stdout",
     "output_type": "stream",
     "text": [
      "{'fraise', 'groseille'}\n",
      "{'myrtille', 'pomme', 'fraise', 'mûre', 'groseille', 'poire'}\n",
      "{'pomme', 'poire'}\n",
      "{'mûre', 'myrtille'}\n",
      "4\n",
      "fraise\n",
      "pomme\n",
      "poire\n",
      "groseille\n",
      "**\n",
      "pomme\n",
      "poire\n",
      "groseille\n",
      "fraise\n"
     ]
    }
   ],
   "source": [
    "ensemble1 = {\"fraise\",\"groseille\",\"pomme\",\"poire\"}\n",
    "ensemble2 = {\"fraise\",\"mûre\",\"myrtille\",\"groseille\"}\n",
    "\n",
    "# Intersection\n",
    "print(ensemble1&ensemble2) # très pratique pour trouver les mots communs à deux textes\n",
    "\n",
    "# Union\n",
    "print(ensemble1|ensemble2)\n",
    "\n",
    "# Différence\n",
    "print(ensemble1-ensemble2)\n",
    "print(ensemble2-ensemble1)\n",
    "\n",
    "# Longueur\n",
    "print(len(ensemble1))\n",
    "\n",
    "# Parcours\n",
    "for element in ensemble1:\n",
    "    print(element)\n",
    "    \n",
    "print(\"**\") \n",
    "\n",
    "# Parcours ordonné\n",
    "for e in sorted(ensemble1, reverse=True):\n",
    "    print(e)"
   ]
  },
  {
   "cell_type": "code",
   "execution_count": 14,
   "metadata": {},
   "outputs": [
    {
     "name": "stdout",
     "output_type": "stream",
     "text": [
      "{'cidre', 'pomme', 'poire', 'abricot'}\n",
      "{'l', 's', ' ', 'n', 'i', 'e', 'o', 'a', 'd', 'm'}\n",
      "{'mairie', 'maison', 'chien'}\n"
     ]
    }
   ],
   "source": [
    "#Conversion en ensemble\n",
    "\n",
    "liste = [\"poire\",\"poire\",\"poire\",\"pomme\",\"pomme\",\"cidre\",\"abricot\"]\n",
    "print(set(liste))\n",
    "\n",
    "ch = \"la maison de ma maman\"\n",
    "print(set(ch))\n",
    "\n",
    "dico = {\"maison\":\"bâtiment\",\"chien\":\"animal\",\"mairie\":\"bâtiment\"}\n",
    "print(set(dico))"
   ]
  },
  {
   "cell_type": "markdown",
   "metadata": {},
   "source": [
    "### Les dictionnaires (cf. https://docs.python.org/fr/3.6/tutorial/datastructures.html#dictionaries)\n",
    "\n",
    "- ils comportent des couples clé/valeur\n",
    "- les clés ne peuvent être ni des listes, ni des ensembles, ni des dictionnaires\n",
    "- les clés doivent être uniques (i.e. une même clé ne peut pas être entrée plusieurs fois)\n",
    "- aucune contrainte sur les valeurs"
   ]
  },
  {
   "cell_type": "code",
   "execution_count": 15,
   "metadata": {},
   "outputs": [
    {
     "name": "stdout",
     "output_type": "stream",
     "text": [
      "Parcours standard\n",
      "\n",
      "fraise fruit\n",
      "framboise fruit\n",
      "poireau légume\n",
      "aubergine légume\n",
      "artichaut légume\n",
      "abricot fruit\n",
      "\n",
      "***\n",
      "Parcours sur valeurs\n",
      "\n",
      "fruit\n",
      "fruit\n",
      "légume\n",
      "légume\n",
      "légume\n",
      "fruit\n",
      "\n",
      "***\n",
      "Parcourir sur clés et valeurs\n",
      "\n",
      "('fraise', 'fruit')\n",
      "('framboise', 'fruit')\n",
      "('poireau', 'légume')\n",
      "('aubergine', 'légume')\n",
      "('artichaut', 'légume')\n",
      "('abricot', 'fruit')\n",
      "fraise fruit\n",
      "framboise fruit\n",
      "poireau légume\n",
      "aubergine légume\n",
      "artichaut légume\n",
      "abricot fruit\n",
      "\n",
      "***\n",
      "Parcours clés triées\n",
      "\n",
      "abricot fruit\n",
      "artichaut légume\n",
      "aubergine légume\n",
      "fraise fruit\n",
      "framboise fruit\n",
      "poireau légume\n",
      "\n",
      "***\n",
      "Parcours valeurs triées\n",
      "\n",
      "fraise fruit\n",
      "framboise fruit\n",
      "abricot fruit\n",
      "poireau légume\n",
      "aubergine légume\n",
      "artichaut légume\n"
     ]
    }
   ],
   "source": [
    "dico = {\n",
    "    \"fraise\":\"fruit\",\n",
    "    \"framboise\":\"fruit\",\n",
    "    \"poireau\":\"légume\",\n",
    "    \"aubergine\":\"légume\",\n",
    "    \"artichaut\":\"légume\",\n",
    "    \"abricot\":\"fruit\",\n",
    "}\n",
    "\n",
    "# Parcourir un dictionnaire\n",
    "# N.B.: par défaut, le parcours de dico se fait sur les clés\n",
    "print(\"Parcours standard\\n\")\n",
    "for cle in dico: #un dico se parcourt par ses clés\n",
    "    print(cle,dico[cle])\n",
    "    \n",
    "# Parcourir sur les valeurs\n",
    "print(\"\\n***\\nParcours sur valeurs\\n\")\n",
    "for valeur in dico.values():\n",
    "    print(valeur)\n",
    "\n",
    "# Parcourir sur les clés et les valeurs\n",
    "print(\"\\n***\\nParcourir sur clés et valeurs\\n\")\n",
    "for couple in dico.items(): # par défaut, tuple (clé,valeur)\n",
    "    print(couple)\n",
    "    \n",
    "for cle,valeur in dico.items(): # mais on peut scinder le tuple directement\n",
    "    print(cle,valeur)\n",
    "    \n",
    "# Parcourir un dictionnaire trié sur les clés\n",
    "print(\"\\n***\\nParcours clés triées\\n\")\n",
    "for cle in sorted(dico):\n",
    "    print(cle,dico[cle])\n",
    "    \n",
    "# Parcourir un dictionnaire trié sur les valeurs\n",
    "print(\"\\n***\\nParcours valeurs triées\\n\")\n",
    "for cle in sorted(dico, key=lambda x:dico[x]):\n",
    "    print(cle, dico[cle])"
   ]
  },
  {
   "cell_type": "markdown",
   "metadata": {},
   "source": [
    "Trier un dictionnaire sur les valeurs est particulièrement utile quand on s'intéresse au vocabulaire d'un texte. Cela permet en effet de trier les mots par ordre de fréquence.<br/>\n",
    "Pour cela, il faut utiliser l'option `key` de `sorted()`. On peut utiliser cette option en association avec une expression lambda.<br/>\n",
    "Une expression lambda (cf. https://docs.python.org/fr/3/reference/expressions.html#lambda) correspond à une sorte de fonction très simple, du type `f(x)`. Autrement dit, pour une valeur donnée, on renvoie une autre valeur.<br/>\n",
    "Par exemple, quand on veut trier un dictionnaire sur ses valeurs, pour chaque clé du dictionnaire, on va renvoyer la valeur associée. C'est sur cette valeur (et non sur la clé) qu'on va se baser pour trier le dico."
   ]
  },
  {
   "cell_type": "code",
   "execution_count": 16,
   "metadata": {},
   "outputs": [
    {
     "name": "stdout",
     "output_type": "stream",
     "text": [
      "de 30\n",
      "la 11\n",
      "le 10\n",
      "veut 5\n",
      "maison 4\n",
      "souris 4\n",
      "chat 3\n",
      "fille 3\n",
      "petite 3\n",
      "après 2\n",
      "mange 2\n",
      "arrosoir 1\n",
      "prend 1\n"
     ]
    }
   ],
   "source": [
    "vocabulaire = {\n",
    "    \"le\":10,\n",
    "    \"la\":11,\n",
    "    \"de\":30,\n",
    "    \"chat\":3,\n",
    "    \"maison\":4,\n",
    "    \"souris\":4,\n",
    "    \"veut\":5,\n",
    "    \"après\":2,\n",
    "    \"fille\":3,\n",
    "    \"petite\":3,\n",
    "    \"arrosoir\":1,\n",
    "    \"prend\":1,\n",
    "    \"mange\":2,\n",
    "}\n",
    "\n",
    "# Afficher les mots par fréquence décroissante\n",
    "for cle in sorted(vocabulaire, key=lambda x:vocabulaire[x], reverse=True):\n",
    "    print(cle,vocabulaire[cle])"
   ]
  },
  {
   "cell_type": "code",
   "execution_count": 17,
   "metadata": {},
   "outputs": [
    {
     "name": "stdout",
     "output_type": "stream",
     "text": [
      "['fraise', 'framboise', 'poireau', 'aubergine', 'artichaut', 'abricot']\n",
      "['fruit', 'fruit', 'légume', 'légume', 'légume', 'fruit']\n",
      "[('fraise', 'fruit'), ('framboise', 'fruit'), ('poireau', 'légume'), ('aubergine', 'légume'), ('artichaut', 'légume'), ('abricot', 'fruit')]\n"
     ]
    }
   ],
   "source": [
    "# Liste des clés d'un dico\n",
    "cles = list(dico.keys())\n",
    "print(cles)\n",
    "\n",
    "# Liste des valeurs d'un dico\n",
    "valeurs = list(dico.values())\n",
    "print(valeurs)\n",
    "\n",
    "# Liste des couples clé-valeur d'un dico\n",
    "couples = list(dico.items())\n",
    "print(couples)"
   ]
  },
  {
   "cell_type": "markdown",
   "metadata": {},
   "source": [
    "Quand on appelle une clé qui n'est pas présente dans un dictionnaire, on obtient un message d'erreur. Il y a plusieurs manières d'éviter ça :\n",
    "- tester la présence de la clé dans le dictionnaire avec `if` et `in`\n",
    "- gérer l'erreur avec `try` et `except KeyError`\n",
    "- utiliser `.get(clé à tester, valeur à retourner si la clé n'est pas dans le dico)`"
   ]
  },
  {
   "cell_type": "code",
   "execution_count": 18,
   "metadata": {},
   "outputs": [
    {
     "name": "stdout",
     "output_type": "stream",
     "text": [
      "Pas de ça ici !\n",
      "Pas de chocolat dans notre dico...\n",
      "Rien\n"
     ]
    }
   ],
   "source": [
    "#print(dico)\n",
    "\n",
    "# Tester la présence avec \"if\" et \"in\"\n",
    "if \"chocolat\" in dico : # par défaut, \"in\" interroge les clés du dico (pas les valeurs !)\n",
    "    print(\"C'est dedans !\")\n",
    "else :\n",
    "    print(\"Pas de ça ici !\")\n",
    "    \n",
    "# Gérer l'exception\n",
    "try :\n",
    "    print(dico[\"chocolat\"])\n",
    "except KeyError :\n",
    "    print(\"Pas de chocolat dans notre dico...\")\n",
    "    \n",
    "# Utiliser \".get()\"\n",
    "print(dico.get(\"chocolat\",\"Rien\"))"
   ]
  },
  {
   "cell_type": "code",
   "execution_count": 19,
   "metadata": {},
   "outputs": [
    {
     "name": "stdout",
     "output_type": "stream",
     "text": [
      "{'clé 1': 1, 'clé 2': 2, 'clé 3': 1}\n"
     ]
    }
   ],
   "source": [
    "# Convertir en dico\n",
    "\n",
    "liste_tuples = [(\"clé 1\",1),(\"clé 2\",2),(\"clé 3\",1)]\n",
    "dico_converti = dict(liste_tuples)\n",
    "print(dico_converti)"
   ]
  },
  {
   "cell_type": "markdown",
   "metadata": {},
   "source": [
    "## Gérer des fichiers\n",
    "\n",
    "- Le module `os` : pour interagir directement avec le système d'exploitation (voir la [doc](https://docs.python.org/fr/3.6/library/os.html))\n",
    "- `os.path.join()` pour recréer aisément des chemins (voir la [doc](https://docs.python.org/fr/3.6/library/os.path.html#module-os.path))\n",
    "\n",
    "- Intérêt d'utiliser `with open()` : pas besoin de fermer le fichier !\n",
    "    - 'r' : ouvre en mode lecture\n",
    "    - 'w' : ouvre en mode écriture (écrase le contenu)\n",
    "    - 'a' : ouvre en mode concaténation (écrit à la suite)\n",
    "    \n",
    "Voir la doc pour la fonction `open()` https://docs.python.org/fr/3/library/functions.html#open"
   ]
  },
  {
   "cell_type": "code",
   "execution_count": 20,
   "metadata": {},
   "outputs": [
    {
     "name": "stdout",
     "output_type": "stream",
     "text": [
      "['texteAFPCorpus.txt', 'texteHessel.txt', 'texteObama.txt', 'texteVillepin.txt']\n"
     ]
    }
   ],
   "source": [
    "import os\n",
    "\n",
    "rep = \"./fichiers_tests\" # le répertoire avec les fichiers à lire\n",
    "\n",
    "liste_fichiers = os.listdir(rep) # liste des fichiers contenus dans le répertoire\n",
    "print(liste_fichiers)"
   ]
  },
  {
   "cell_type": "code",
   "execution_count": 21,
   "metadata": {},
   "outputs": [
    {
     "name": "stdout",
     "output_type": "stream",
     "text": [
      "Nom du fichier : texteAFPCorpus.txt <class 'str'>\n",
      "Nom du fichier : texteHessel.txt <class 'str'>\n",
      "Nom du fichier : texteObama.txt <class 'str'>\n",
      "Nom du fichier : texteVillepin.txt <class 'str'>\n"
     ]
    }
   ],
   "source": [
    "# for file in liste_fichiers: # on pourrait réutiliser la liste des fichiers créée ci-dessus\n",
    "for file in os.listdir(rep): # pour chaque fichier\n",
    "    \n",
    "    print(\"Nom du fichier :\", file, type(file))\n",
    "    \n",
    "    file_path = os.path.join(rep,file) # reconstitution du chemin du fichier\n",
    "    #print(\"Chemin du fichier :\", file_path, type(file_path))\n",
    "    \n",
    "    #------------------------------------------------------------\n",
    "    \n",
    "    file_opened = open(file_path, \"r\", encoding=\"utf-8\") # ouverture en lecture\n",
    "    #print(\"Objet fichier ouvert :\", file_opened, type(file_opened))\n",
    "    \n",
    "    file_read = file_opened.read() # récupération du contenu\n",
    "    #print(\"Contenu du fichier :\",type(file_read),\"\\n******\\n\", file_read, )\n",
    "    \n",
    "    file_opened.close() # fermeture du fichier\n",
    "    \n",
    "    #print(\"\\n******\\n\")\n",
    "    \n",
    "    #-------------------------------------------------------------\n",
    "    \n",
    "    with open(file_path, \"r\", encoding=\"utf-8\") as file_opened: # ouverture\n",
    "        file_read2 = file_opened.read() # récupération du contenu\n",
    "        \n",
    "        #print(\"Contenu du fichier :\",type(file_read2),\"\\n$$$$$$\\n\", file_read2)\n",
    "        #print(\"\\n$$$$$$\\n\")\n",
    "        \n",
    "    # Pour vérifier qu'on obtient bien le même résultat avec les deux méthodes\n",
    "    try :\n",
    "        assert file_read == file_read2\n",
    "        #assert file_read == \"patate\" #certainement faux\n",
    "    except AssertionError :\n",
    "        print(\"/!\\ Les contenus sont différents ! /!\\\\\")"
   ]
  },
  {
   "cell_type": "markdown",
   "metadata": {},
   "source": [
    "Pur obtenir le contenu d'un fichier :\n",
    "- `readline()` : retourne 1 ligne du fichier(`str()`)\n",
    "- `readlines()` : retourne une liste avec toutes les lignes du fichier (`list()`)"
   ]
  },
  {
   "cell_type": "code",
   "execution_count": 22,
   "metadata": {},
   "outputs": [
    {
     "name": "stdout",
     "output_type": "stream",
     "text": [
      "['Tourisme-histoire-culture\\n', \"Avignon célèbre le 700e anniversaire de l'arrivée des papes (GE)\\n\"]\n",
      "Tourisme-histoire-culture\n",
      " Avignon célèbre le 700e anniversaire de l'arrivée des papes (GE)\n",
      "\n",
      "*******\n",
      "Libération\n",
      "\n",
      "Barack Obama, entre ghettos et Harvard\n",
      "\n",
      "5 novembre 2012 à 21:06\n",
      "\n",
      "Par FABRICE ROUSSELOT Correspondant à New-York \n",
      "\n",
      "Travailleur social dans les bas quartiers de Boston, étudiant à Harvard, professeur de droit constitutionnel...: le parcours haut en couleurs du Président réélu.  \n",
      "\n",
      "Des origines sans arrêt attaquées\n",
      "\n",
      "De tous les présidents américains, Barack Obama est sans aucun doute celui dont la naissance a été le plus largement documentée. Né à Hawaï d’un père kényan et d’une mère originaire du Kansas, le jeune Obama a passé quatre ans en Indonésie après le divorce de ses parents. Durant toute son enfance, il a principalement été élevé par sa mère et ses grands-parents, alors que son père est reparti très tôt vivre au Kenya. Dans ses premiers mémoires, les Rêves de mon père, Obama explique tout à la fois combien la figure paternelle lui a manqué et comment sa mère a forgé son éducation, le sensibilisant très vite à des sujets comme le droit des femmes ou l’avortement. C’est elle qui lui fera découvrir les discours de Martin Luther King. De son origine métissée et de son enfance «différente», Obama dit aussi qu’il a souffert, préférant au collège se faire appeler «Barry» plutôt que Barack Hussein, le double prénom de son père. Avant finalement d’assumer fièrement son héritage. «Dans ma famille, c’est un peu comme les Nations unies en miniature, a-t-il dit un jour, j’ai des parents qui ressemblent à Bernie Mac [un acteur noir, ndlr] et d’autres à Margaret Thatcher.» Mais cette différence le poursuivra jusque dans sa course à la présidence et bien après.\n",
      "\n",
      "(…)\n",
      "\n",
      "Un parcours entre les ghettos et Harvard\n",
      "\n",
      "Après le lycée à Hawaï, Obama part en Californie pour l’université. Il y prononce son premier discours public en 1981, dans lequel il appelle les Américains à ne plus investir en Afrique du Sud pour protester contre l’apartheid. Ses compagnons d’alors notent déjà sa passion et son charisme. La même année, il décide d’aller étudier la politique à la Columbia University de New York et de se spécialiser en relations internationales. C’est alors que sa vie bascule. Il répond à une petite annonce pour devenir travailleur social dans les banlieues pauvres de Chicago (13 000 dollars par an) et se confronte à la misère dans les quartiers noirs. Les pasteurs avec qui il travaille le surnomment «Baby Face», mais louent sa détermination. «Il était doué d’une motivation hors du commun et avait une capacité remarquable à recruter des volontaires pour aider les plus démunis», a déclaré Jerry Kellman, son mentor, à Libération en 2008. Chicago devient alors la ville d’adoption de Barack Obama. Après de nouvelles études de droit à Harvard (Massachusetts), où il devient le premier Afro-Américain à présider la prestigieuse Harvard Law Review, il revient à Chicago pour enseigner le droit constitutionnel de 1992 à 2004.\n",
      "\n",
      "(…)\n",
      "\n",
      "La religion, éternelle source de polémique\n",
      "\n",
      "Dans l’Audace d’espérer, une de ses autobiographies, Barack Obama souligne qu’il n’a pas été élevé dans le cadre d’une famille religieuse. Sa mère n’allait pas régulièrement à l’église et son père kényan était athée. Obama se présente comme un chrétien et a expliqué maintes fois qu’il avait redécouvert la foi quand il œuvrait comme travailleur social à Chicago. C’est d’ailleurs là qu’il a été baptisé en 1988, à la Trinity Church of Christ du pasteur Jeremiah Wright.\n",
      "\n",
      "Toutefois, la religion reste pour Obama un sujet de controverse. En 2008, durant sa campagne, il a dû se séparer de la Trinity Church of Christ, après que la presse eut exhumé des déclarations antisémites du pasteur Wright. Après son élection, les fondamentalistes conservateurs n’ont cessé d’assurer que le Président était en réalité un musulman, relevant qu’il avait eu des professeurs de Coran quand il était en Indonésie, entre 6 et 10 ans.\n",
      "\n",
      "Durant les primaires du Parti républicain, le candidat Newt Gingrich avait un jour affirmé que «c’était de la faute d’Obama si les gens pensent qu’il est musulman». «Le Président ne cesse de s’excuser auprès des musulmans fanatiques qui s’en prennent à notre nation. Alors qu’il ne vienne pas s’étonner !» avait-il lancé.\n",
      "\n",
      "Un homme solitaire, fan de sports collectifs\n",
      "\n",
      "Comme le dit son ancien professeur à Harvard, Charles Ogletree, «Barack Obama est un homme complexe, avec de nombreuses facettes». Brillant orateur et politicien surdoué qui a réussi à mobiliser toute une nation en 2008, Obama a semblé perdre un peu de son énergie à la Maison Blanche depuis quatre ans. Les républicains l’accusent même d’un certain «detachement» et le qualifient souvent de président intellectuel et solitaire. Sa prestation lors du premier débat télévisé face à Mitt Romney n’a fait que confirmer ce sentiment auprès de ses détracteurs, qui ont souligné que le Président avait par moments semblé «totalement absent». \n",
      "\n",
      "(…)\n",
      "\n"
     ]
    }
   ],
   "source": [
    "# Récupération de toute les lignes\n",
    "with open(os.path.join(rep,liste_fichiers[0]),\"r\",encoding=\"utf-8\") as file_opened:\n",
    "    lignes = file_opened.readlines()\n",
    "print(lignes[:2])\n",
    "\n",
    "# Récupération de quelques lignes\n",
    "with open(os.path.join(rep,liste_fichiers[0]),\"r\",encoding=\"utf-8\") as file_opened:\n",
    "    ligne1 = file_opened.readline()\n",
    "    ligne2 = file_opened.readline()\n",
    "print(ligne1,ligne2)\n",
    "\n",
    "# Lecture ligne à ligne\n",
    "print(\"*******\")\n",
    "with open(os.path.join(rep,liste_fichiers[2]),\"r\",encoding=\"utf-8\") as file_opened:\n",
    "    for line in file_opened:\n",
    "        print(line)"
   ]
  },
  {
   "cell_type": "markdown",
   "metadata": {},
   "source": [
    "`with open()` permet aussi d'écrire des fichiers !\n",
    "\n",
    "- `write()` ne prend en argument que des chaînes de caractères\n",
    "- on peut utiliser `.join()` pour concaténer tous les éléments d'une liste entre eux"
   ]
  },
  {
   "cell_type": "code",
   "execution_count": 23,
   "metadata": {},
   "outputs": [],
   "source": [
    "rep_out = \"./sorties\"\n",
    "\n",
    "liste = [\"pomme\",\"banane\"]\n",
    "try: # on essaye de créer un répertoire de sortie\n",
    "    os.mkdir(rep_out)\n",
    "except OSError : #si le répertoire de sortie spécifié existe déjà\n",
    "    pass\n",
    "\n",
    "file_out = \"fichier_de_sortie.txt\"\n",
    "file_out2 = 'fichier2.txt'\n",
    "\n",
    "with open(os.path.join(rep_out,file_out),\"w\",encoding=\"utf-8\") as out:\n",
    "    out.write(\"Bonjour bonjour !\")\n",
    "\n",
    "with open(os.path.join(rep_out,file_out2),\"w\",encoding=\"utf-8\") as out:\n",
    "    out.write(\" \".join(liste))\n",
    "    \n",
    "with open(os.path.join(rep_out,file_out),\"a\",encoding=\"utf-8\") as out:\n",
    "    out.write(\"$$$\".join(liste))"
   ]
  },
  {
   "cell_type": "code",
   "execution_count": null,
   "metadata": {},
   "outputs": [],
   "source": []
  }
 ],
 "metadata": {
  "kernelspec": {
   "display_name": "Python 3",
   "language": "python",
   "name": "python3"
  },
  "language_info": {
   "codemirror_mode": {
    "name": "ipython",
    "version": 3
   },
   "file_extension": ".py",
   "mimetype": "text/x-python",
   "name": "python",
   "nbconvert_exporter": "python",
   "pygments_lexer": "ipython3",
   "version": "3.6.8"
  }
 },
 "nbformat": 4,
 "nbformat_minor": 2
}
